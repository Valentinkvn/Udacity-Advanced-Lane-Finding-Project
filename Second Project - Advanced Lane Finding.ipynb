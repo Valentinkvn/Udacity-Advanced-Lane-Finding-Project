{
 "cells": [
  {
   "cell_type": "markdown",
   "metadata": {},
   "source": [
    "# IMPORT PACKAGES"
   ]
  },
  {
   "cell_type": "code",
   "execution_count": 2,
   "metadata": {},
   "outputs": [],
   "source": [
    "import numpy as np\n",
    "import cv2\n",
    "import matplotlib.pyplot as plt\n",
    "import matplotlib.image as mpimg\n",
    "import glob\n",
    "import os\n",
    "import time\n",
    "\n",
    "    #Define a class to receive the characteristics of each line detection\n",
    "class Line():\n",
    "    def __init__(self):\n",
    "        # was the line detected in the last iteration?\n",
    "        self.detected = False  \n",
    "        # x values of the last n fits of the line\n",
    "        self.recent_xfitted = [] \n",
    "        #average x values of the fitted line over the last n iterations\n",
    "        self.bestx = None     \n",
    "        #polynomial coefficients averaged over the last n iterations\n",
    "        self.best_fit = None  \n",
    "        #polynomial coefficients for the most recent fit\n",
    "        self.current_fit = [np.array([False])]  \n",
    "        #radius of curvature of the line in some units\n",
    "        self.radius_of_curvature = None \n",
    "        #distance in meters of vehicle center from the line\n",
    "        self.line_base_pos = None \n",
    "        #difference in fit coefficients between last and new fits\n",
    "        self.diffs = np.array([0,0,0], dtype='float') \n",
    "        #x values for detected line pixels\n",
    "        self.allx = None  \n",
    "        #y values for detected line pixels\n",
    "        self.ally = None \n",
    "    \n",
    "# Declarings of two Line objects for each line\n",
    "leftLine = Line()\n",
    "rightLine = Line()"
   ]
  },
  {
   "cell_type": "markdown",
   "metadata": {},
   "source": [
    "# TEST IMAGES"
   ]
  },
  {
   "cell_type": "code",
   "execution_count": 3,
   "metadata": {},
   "outputs": [
    {
     "data": {
      "text/plain": [
       "['frame1044.jpg',\n",
       " 'frame12.jpg',\n",
       " 'frame9.jpg',\n",
       " 'frame1049.jpg',\n",
       " '.ipynb_checkpoints',\n",
       " 'frame1046.jpg',\n",
       " 'frame2.jpg',\n",
       " 'frame1.jpg',\n",
       " 'frame11.jpg',\n",
       " 'frame1050.jpg',\n",
       " 'frame3.jpg',\n",
       " 'frame13.jpg',\n",
       " 'frame1043.jpg',\n",
       " 'frame1048.jpg',\n",
       " 'frame1041.jpg',\n",
       " 'frame1045.jpg',\n",
       " 'frame10.jpg',\n",
       " 'frame4.jpg',\n",
       " 'warped.jpg',\n",
       " 'frame14.jpg',\n",
       " 'frame6.jpg',\n",
       " 'frame1042.jpg',\n",
       " 'frame1047.jpg',\n",
       " 'frame7.jpg',\n",
       " 'frame5.jpg',\n",
       " 'frame8.jpg']"
      ]
     },
     "execution_count": 3,
     "metadata": {},
     "output_type": "execute_result"
    }
   ],
   "source": [
    "os.listdir(\"video_images/\")"
   ]
  },
  {
   "cell_type": "markdown",
   "metadata": {},
   "source": [
    "# SHOW IMAGES"
   ]
  },
  {
   "cell_type": "code",
   "execution_count": 4,
   "metadata": {},
   "outputs": [],
   "source": [
    "# function to show all the images that are contained in the test_images folder\n",
    "def show_images(images, cmap=None):\n",
    "    cols = 3\n",
    "    rows = (len(images)+2)//cols \n",
    "    \n",
    "    plt.figure(figsize=(40, 30))\n",
    "    for i, image in enumerate(images):\n",
    "        plt.subplot(rows, cols, i+1)\n",
    "        # use gray scale color map if there is only one channel\n",
    "        cmap = 'gray' if len(image.shape)==2 else cmap\n",
    "        plt.imshow(image, cmap=cmap)\n",
    "        plt.xticks([])\n",
    "        plt.yticks([])\n",
    "    plt.tight_layout(pad=0, h_pad=0, w_pad=0)\n",
    "    plt.show()\n",
    "    \n",
    "test_images = [plt.imread(path) for path in glob.glob('video_images/*.jpg')]\n",
    "#show_images(test_images)"
   ]
  },
  {
   "cell_type": "markdown",
   "metadata": {},
   "source": [
    "# HELPER FUNCTIONS"
   ]
  },
  {
   "cell_type": "markdown",
   "metadata": {},
   "source": [
    "# Camera calibration and distorsion corection"
   ]
  },
  {
   "cell_type": "code",
   "execution_count": 5,
   "metadata": {},
   "outputs": [],
   "source": [
    "import pickle\n",
    "\n",
    "# the camera calibration function which makes the calibration for the camera using the chessboard images\n",
    "def cameraCalibration(nx = 9, ny = 6, img_size = (720, 1280)):\n",
    "    \n",
    "    # prepare object points, like (0,0,0), (1,0,0), (2,0,0) ....,(6,5,0)\n",
    "    objp = np.zeros((nx * ny,3), np.float32)\n",
    "    objp[:,:2] = np.mgrid[0:nx, 0:ny].T.reshape(-1,2)\n",
    "\n",
    "    # Arrays to store object points and image points from all the images.\n",
    "    objpoints = [] # 3d points in real world space\n",
    "    imgpoints = [] # 2d points in image plane.\n",
    "\n",
    "    # Make a list of calibration images\n",
    "    images = glob.glob('camera_cal/calibration*.jpg')\n",
    "\n",
    "    # Step through the list and search for chessboard corners\n",
    "    for idx, fname in enumerate(images):\n",
    "        img = cv2.imread(fname)\n",
    "        copy = img\n",
    "        gray = cv2.cvtColor(img, cv2.COLOR_BGR2GRAY)\n",
    "\n",
    "        # Find the chessboard corners\n",
    "        ret, corners = cv2.findChessboardCorners(gray, (nx, ny), None)\n",
    "\n",
    "        # If found, add object points, image points\n",
    "        if ret == True:\n",
    "            objpoints.append(objp)\n",
    "            imgpoints.append(corners)\n",
    "\n",
    "            # Draw and display the corners\n",
    "            cv2.drawChessboardCorners(img, (nx, ny), corners, ret)\n",
    "            \n",
    "            plt.imshow(img)\n",
    "            plt.title(\"Chessboard 9x6\")\n",
    "\n",
    "    ret, mtx, dist, rvecs, tvecs = cv2.calibrateCamera(objpoints, imgpoints, img_size,None,None)\n",
    "    \n",
    "    # Save the camera calibration result for later use \n",
    "    dist_pickle = {}\n",
    "    dist_pickle[\"mtx\"] = mtx\n",
    "    dist_pickle[\"dist\"] = dist\n",
    "    pickle.dump( dist_pickle, open( \"camera_cal/wide_dist_pickle.p\", \"wb\" ) )\n",
    "    \n",
    "    print(\"Camera Calibration was successful\")\n",
    "\n",
    "def undistortImage(image):\n",
    "    \n",
    "    # Load data from pickle file\n",
    "    dist_pickle = pickle.load( open( \"camera_cal/wide_dist_pickle.p\", \"rb\" ) )\n",
    "    mtx = dist_pickle[\"mtx\"]\n",
    "    dist = dist_pickle[\"dist\"]\n",
    "    \n",
    "    # Test undistortion on an image\n",
    "    img_size = (image.shape[1], image.shape[0])\n",
    "\n",
    "    # Do the undistorsion of the image using the mtx and dist matrixes\n",
    "    dst = cv2.undistort(image, mtx, dist, None, mtx)\n",
    "    \n",
    "    return dst"
   ]
  },
  {
   "cell_type": "code",
   "execution_count": 6,
   "metadata": {},
   "outputs": [
    {
     "name": "stdout",
     "output_type": "stream",
     "text": [
      "Camera Calibration was successful\n"
     ]
    },
    {
     "data": {
      "image/png": "[encoded data removed]",
      "text/plain": [
       "<matplotlib.figure.Figure at 0x7f55c836dac8>"
      ]
     },
     "metadata": {
      "needs_background": "light"
     },
     "output_type": "display_data"
    }
   ],
   "source": [
    "# Run the camera calibration module\n",
    "cameraCalibration()"
   ]
  },
  {
   "cell_type": "markdown",
   "metadata": {},
   "source": [
    "# Gradient and color filtering"
   ]
  },
  {
   "cell_type": "code",
   "execution_count": 7,
   "metadata": {},
   "outputs": [
    {
     "data": {
      "text/plain": [
       "<matplotlib.image.AxesImage at 0x7f55c80d0f98>"
      ]
     },
     "execution_count": 7,
     "metadata": {},
     "output_type": "execute_result"
    },
    {
     "data": {
      "image/png": "[encoded data removed]",
      "text/plain": [
       "<matplotlib.figure.Figure at 0x7f55c80522b0>"
      ]
     },
     "metadata": {
      "needs_background": "light"
     },
     "output_type": "display_data"
    }
   ],
   "source": [
    "# Two modules for gradient thresholding, including sobel thresholding and gradient magnitude thresholding\n",
    "def abs_sobel_threshold(image, orient='x', sobel_kernel=3, thresh=(0, 255)):\n",
    "\n",
    "    gray = cv2.cvtColor(image, cv2.COLOR_RGB2GRAY)\n",
    "\n",
    "    # 2) Take the derivative in x or y given orient = 'x' or 'y'\n",
    "    if orient == 'x':\n",
    "        sobel = cv2.Sobel(gray, cv2.CV_64F, 1, 0)\n",
    "    if orient == 'y':\n",
    "        sobel = cv2.Sobel(gray, cv2.CV_64F, 0, 1)\n",
    "\n",
    "    # 3) Take the absolute value of the derivative or gradient\t\n",
    "    abs_sobel = np.absolute(sobel)\n",
    "\n",
    "    # 4) Scale to 8-bit (0 - 255) then convert to type = np.uint8\n",
    "    scaled_sobel = np.uint8(255 * abs_sobel / np.max(abs_sobel))\n",
    "\n",
    "    # 5) Create a mask of 1's where the scaled gradient magnitude \n",
    "        # is > thresh_min and < thresh_max\n",
    "    grad_binary = np.zeros_like(scaled_sobel)\n",
    "    grad_binary[(scaled_sobel >= thresh[0]) & (scaled_sobel <= thresh[1])] = 1\n",
    "\n",
    "    # 6) Return this mask as your binary_output \n",
    "    return grad_binary\n",
    "\n",
    "def mag_threshold(image, sobel_kernel=3, mag_thresh=(0, 255)):\n",
    "    # Calculate gradient magnitude\n",
    "\n",
    "    gray = cv2.cvtColor(image, cv2.COLOR_RGB2GRAY)\t\n",
    "\n",
    "    # 2) Take the gradient in x and y separately\n",
    "    sobelx = cv2.Sobel(gray, cv2.CV_64F, 1, 0)\n",
    "    sobely = cv2.Sobel(gray, cv2.CV_64F, 0, 1)\n",
    "\n",
    "    # 3) Calculate the magnitude \n",
    "    abs_sobelx = np.sqrt(pow(sobelx, 2))\n",
    "    abs_sobely = np.sqrt(pow(sobely, 2))\n",
    "    abs_sobelxy = np.sqrt(pow(sobelx, 2) + pow(sobely, 2))\n",
    "\n",
    "    # 4) Scale to 8-bit (0 - 255) and convert to type = np.uint8\n",
    "    scaled_sobel = np.uint8(255 * abs_sobelxy / np.max(abs_sobelxy))\n",
    "\n",
    "    # 5) Create a binary mask where mag thresholds are met\n",
    "    mag_binary = np.zeros_like(scaled_sobel)\n",
    "    mag_binary[(scaled_sobel >= mag_thresh[0]) & (scaled_sobel <= mag_thresh[1])] = 1\n",
    "\n",
    "    # 6) Return this mask as your binary_output image\n",
    "    return mag_binary\n",
    "\n",
    "\n",
    "\n",
    "# function to threshold the S and L channels of HLS color space and R of \n",
    "def color_select(image, threshS=(0, 255), threshL=(0,255), threshR=(0,255)):\n",
    "    \n",
    "    # 1) Convert to HLS color space\n",
    "    hls = cv2.cvtColor(image, cv2.COLOR_RGB2HLS)\n",
    "    \n",
    "    # 2) Apply a threshold to the S channel\n",
    "#     plt.figure()\n",
    "#     plt.title('H')\n",
    "#     plt.imshow(hls[:,:,0], cmap = 'gray')\n",
    "    \n",
    "#     plt.figure()\n",
    "#     plt.title('L')\n",
    "#     plt.imshow(hls[:,:,1], cmap = 'gray')\n",
    "    \n",
    "#     plt.figure()\n",
    "#     plt.title('S')\n",
    "#     plt.imshow(hls[:,:,2], cmap = 'gray')\n",
    "    \n",
    "    L = hls[:,:,1]\n",
    "    S = hls[:,:,2]\n",
    "    R = image[:,:,1]\n",
    "    binary_output = np.zeros_like(S)\n",
    "    binary_output[(((S > threshS[0]) & (S <= threshS[1])) & ((R > threshR[0]) & (R <= threshR[1]))) | ((L > threshL[0]) & (L <= threshL[1]))] = 1\n",
    "    \n",
    "    # 3) Return a binary image of threshold result\n",
    "    return binary_output\n",
    "\n",
    "\n",
    "\n",
    "# function to apply all the thresholds that were implemented above\n",
    "def applyThresholds(image):\n",
    "    \n",
    "    ksize = 3\n",
    "    gradx = abs_sobel_threshold(image, orient='x', sobel_kernel=7, thresh=(20, 100))\n",
    "    grady = abs_sobel_threshold(image, orient='y', sobel_kernel=7, thresh=(20, 100))\n",
    "    mag_binary = mag_threshold(image, sobel_kernel=ksize, mag_thresh=(30, 100))\n",
    "    \n",
    "    color_binary = color_select(image, threshS=(100, 255), threshL=(180,255), threshR=(150,255))\n",
    "    \n",
    "    combined = np.zeros_like(color_binary)\n",
    "    combined[(gradx == 1) | (mag_binary == 1) | (color_binary == 1)] = 1\n",
    "    \n",
    "#     show(gradx, 'sobelx', 'gray')\n",
    "#     show(mag_binary, 'magnitude', 'gray')\n",
    "#     show(color_binary, 'color', 'gray')\n",
    "#     show(combined, 'combined', 'gray')\n",
    "    \n",
    "    return combined\n",
    "\n",
    "img = mpimg.imread('video_images/warped.jpg')\n",
    "combined = applyThresholds(img)\n",
    "plt.figure()\n",
    "plt.imshow(combined)"
   ]
  },
  {
   "cell_type": "code",
   "execution_count": 29,
   "metadata": {},
   "outputs": [],
   "source": [
    "# the function which takes the image and makes the perspective transform to the 'bird eye view' perspective\n",
    "def perspectiveTransform(image):\n",
    "    \n",
    "    img_size = (image.shape[1], image.shape[0])\n",
    "    \n",
    "    # Vertices extracted manually for performing a perspective transform\n",
    "    bottom_left = [220,720]\n",
    "    bottom_right = [1110, 720]\n",
    "    top_left = [570, 470]\n",
    "    top_right = [722, 470]\n",
    "\n",
    "    source = np.float32([bottom_left,bottom_right,top_right,top_left])\n",
    "    \n",
    "    # Destination points are chosen such that straight lanes appear more or less parallel in the transformed image.\n",
    "    bottom_left = [320,720]\n",
    "    bottom_right = [920, 720]\n",
    "    top_left = [320, 1]\n",
    "    top_right = [920, 1]\n",
    "\n",
    "    dst = np.float32([bottom_left,bottom_right,top_right,top_left])\n",
    "\n",
    "    # Extracting the M matrix which is the transform matrix of the Perspetive Transformation\n",
    "    M = cv2.getPerspectiveTransform(source, dst)\n",
    "    warped = cv2.warpPerspective(image, M, img_size , flags=cv2.INTER_LINEAR)\n",
    "    \n",
    "    # Extracting the Minv which is the inverse matrix with which we'll perform the return to the initial perspectiv\n",
    "    Minv = cv2.getPerspectiveTransform(dst, source)\n",
    "\n",
    "    return warped, Minv\n",
    "\n",
    "# img = mpimg.imread(\"test_images/straight_lines1.jpg\")\n",
    "# warped,gs = perspectiveTransform(img)\n",
    "# plt.imshow(warped)\n",
    "# plt.title('Warped Image')"
   ]
  },
  {
   "cell_type": "code",
   "execution_count": 52,
   "metadata": {},
   "outputs": [],
   "source": [
    "# Find the polynomial that fits our left and right lanes\n",
    "def find_lane_pixels(binary_warped):\n",
    "    # Take a histogram of the bottom half of the image\n",
    "    histogram = np.sum(binary_warped[binary_warped.shape[0]//2:,:], axis=0)\n",
    "    #print(histogram.shape)\n",
    "    \n",
    "    # Create an output image to draw on and visualize the result\n",
    "    out_img = np.dstack((binary_warped, binary_warped, binary_warped)) * 255\n",
    "    #print(binary_warped.shape)\n",
    "    #plt.imshow(out_img)\n",
    "    \n",
    "    # Find the peak of the left and right halves of the histogram\n",
    "    # These will be the starting point for the left and right lines\n",
    "    midpoint = np.int(histogram.shape[0]//2)\n",
    "    leftx_base = np.argmax(histogram[:midpoint])\n",
    "    rightx_base = np.argmax(histogram[midpoint:]) + midpoint\n",
    "\n",
    "    # HYPERPARAMETERS\n",
    "    # Choose the number of sliding windows\n",
    "    nwindows = 9\n",
    "    # Set the width of the windows +/- margin\n",
    "    margin = 100\n",
    "    # Set minimum number of pixels found to recenter window\n",
    "    minpix =  50\n",
    "\n",
    "    # Set height of windows - based on nwindows above and image shape\n",
    "    window_height = np.int(binary_warped.shape[0]//nwindows)\n",
    "    \n",
    "    # Identify the x and y positions of all nonzero pixels in the image\n",
    "    nonzero = binary_warped.nonzero()\n",
    "    nonzeroy = np.array(nonzero[0])\n",
    "    nonzerox = np.array(nonzero[1])\n",
    "    \n",
    "    # Current positions to be updated later for each window in nwindows\n",
    "    leftx_current = leftx_base\n",
    "    rightx_current = rightx_base\n",
    "\n",
    "    # Create empty lists to receive left and right lane pixel indices\n",
    "    left_lane_inds = []\n",
    "    right_lane_inds = []\n",
    "    i = 0\n",
    "    \n",
    "    # Step through the windows one by one\n",
    "    for window in range(nwindows):\n",
    "        \n",
    "        #print(i)\n",
    "        # Identify window boundaries in x and y (and right and left)\n",
    "        win_y_low = binary_warped.shape[0] - (window+1)*window_height\n",
    "        win_y_high = binary_warped.shape[0] - window*window_height\n",
    "        # print(str(win_y_low) + \" \" + str(win_y_high))\n",
    "        \n",
    "        i = i + 1\n",
    "        \n",
    "        ### TO-DO: Find the four below boundaries of the window ###\n",
    "        win_xleft_low = leftx_current - margin  # Update this\n",
    "        win_xleft_high = leftx_current + margin  # Update this\n",
    "        win_xright_low = rightx_current - margin  # Update this\n",
    "        win_xright_high = rightx_current + margin  # Update this\n",
    "        #print(str(win_xleft_low) + \" \" + str(win_xleft_high) + \" \" + str(win_xright_low) + \" \" + str(win_xright_high))\n",
    "        \n",
    "        # Draw the windows on the visualization image\n",
    "        cv2.rectangle(out_img,(win_xleft_low,win_y_low),\n",
    "        (win_xleft_high,win_y_high),(255,0,0), 3) \n",
    "        cv2.rectangle(out_img,(win_xright_low,win_y_low),\n",
    "        (win_xright_high,win_y_high),(255,0,0), 3) \n",
    "        \n",
    "        ### TO-DO: Identify the nonzero pixels in x and y within the window ###\n",
    "        good_left_inds = ((nonzeroy >= win_y_low) & (nonzeroy < win_y_high) & \n",
    "        (nonzerox >= win_xleft_low) & (nonzerox < win_xleft_high)).nonzero()[0]\n",
    "        good_right_inds = ((nonzeroy >= win_y_low) & (nonzeroy < win_y_high) & \n",
    "        (nonzerox >= win_xright_low) &  (nonzerox < win_xright_high)).nonzero()[0]\n",
    "        \n",
    "        # Append these indices to the lists\n",
    "        left_lane_inds.append(good_left_inds)\n",
    "        right_lane_inds.append(good_right_inds)\n",
    "        \n",
    "        ### TO-DO: If you found > minpix pixels, recenter next window ###\n",
    "        ### (`right` or `leftx_current`) on their mean position ###\n",
    "        if len(good_left_inds) > minpix:\n",
    "            leftx_current = np.int(np.mean(nonzerox[good_left_inds]))\n",
    "        if len(good_right_inds) > minpix:        \n",
    "            rightx_current = np.int(np.mean(nonzerox[good_right_inds]))\n",
    "\n",
    "    # Concatenate the arrays of indices (previously was a list of lists of pixels)\n",
    "    try:\n",
    "        left_lane_inds = np.concatenate(left_lane_inds)\n",
    "        right_lane_inds = np.concatenate(right_lane_inds)\n",
    "    except ValueError:\n",
    "        # Avoids an error if the above is not implemented fully\n",
    "        pass\n",
    "\n",
    "    # Extract left and right line pixel positions\n",
    "    leftx = nonzerox[left_lane_inds]\n",
    "    lefty = nonzeroy[left_lane_inds] \n",
    "    rightx = nonzerox[right_lane_inds]\n",
    "    righty = nonzeroy[right_lane_inds]\n",
    "\n",
    "    return leftx, lefty, rightx, righty, out_img\n",
    "\n",
    "\n",
    "def fit_polynomial(binary_warped):\n",
    "    # Find our lane pixels first\n",
    "    leftx, lefty, rightx, righty, out_img = find_lane_pixels(binary_warped)\n",
    "\n",
    "    ### TO-DO: Fit a second order polynomial to each using `np.polyfit` ###\n",
    "    left_fit = np.polyfit(lefty, leftx, 2)\n",
    "    right_fit = np.polyfit(righty, rightx, 2)\n",
    "\n",
    "    # Generate x and y values for plotting\n",
    "    ploty = np.linspace(0, binary_warped.shape[0]-1, binary_warped.shape[0] )\n",
    "    try:\n",
    "        left_fitx = left_fit[0]*ploty**2 + left_fit[1]*ploty + left_fit[2]\n",
    "        right_fitx = right_fit[0]*ploty**2 + right_fit[1]*ploty + right_fit[2]\n",
    "    except TypeError:\n",
    "        # Avoids an error if `left` and `right_fit` are still none or incorrect\n",
    "        print('The function failed to fit a line!')\n",
    "        left_fitx = 1*ploty**2 + 1*ploty\n",
    "        right_fitx = 1*ploty**2 + 1*ploty\n",
    "    \n",
    "    # Working with the output from the last frame and performing \n",
    "    # the checkings to see if the lane selections were extracted correctly\n",
    "    if leftLine.detected == False:\n",
    "        leftLine.bestx = np.average(left_fitx)\n",
    "        leftLine.allx = left_fitx\n",
    "        leftLine.current_fit = left_fit\n",
    "        leftLine.detected = True\n",
    "    else:\n",
    "        if abs(np.average(left_fitx) - leftLine.bestx) > 100:\n",
    "            left_fit = leftLine.current_fit\n",
    "            left_fitx = leftLine.allx\n",
    "            print('Left refit')\n",
    "        else:\n",
    "            leftLine.current_fit = left_fit\n",
    "            leftLine.allx = left_fitx \n",
    "            \n",
    "    if rightLine.detected == False:\n",
    "        rightLine.bestx = np.average(right_fitx)\n",
    "        rightLine.allx = right_fitx\n",
    "        rightLine.current_fit = right_fit\n",
    "        rightLine.detected = True\n",
    "    else:\n",
    "        if abs(np.average(right_fitx) - rightLine.bestx) > 100:\n",
    "            right_fit = rightLine.current_fit\n",
    "            right_fitx = rightLine.allx\n",
    "            print('Right refit')\n",
    "        else:\n",
    "            rightLine.current_fit = right_fit \n",
    "            rightLine.allx = right_fitx \n",
    "    \n",
    "    out1_img = np.dstack((binary_warped, binary_warped, binary_warped)) * 255\n",
    "    # Plots the left and right polynomials on the lane lines\n",
    "    window_img = np.zeros_like(out_img)\n",
    "    \n",
    "    left_line_window1 = np.array([np.transpose(np.vstack([left_fitx, ploty]))])\n",
    "    left_line_window2 = np.array([np.flipud(np.transpose(np.vstack([left_fitx+(right_fitx-left_fitx), \n",
    "                              ploty])))])   \n",
    "    left_line_pts = np.hstack((left_line_window1, left_line_window2))\n",
    "    cv2.fillPoly(window_img, np.int_([left_line_pts]), (0, 127, 127))\n",
    "    \n",
    "    #result = cv2.addWeighted(out1_img, 1, window_img, 0.3, 0)\n",
    "#     result = window_img\n",
    "    \n",
    "#     plt.plot(left_fitx, ploty, color='blue')\n",
    "#     plt.plot(right_fitx, ploty, color='blue')\n",
    "#     plt.imshow(out_img)\n",
    "#     plt.title('Sliding windows and polynomial fit')\n",
    "\n",
    "    return result, left_fit, right_fit\n",
    "\n",
    "\n"
   ]
  },
  {
   "cell_type": "code",
   "execution_count": 53,
   "metadata": {},
   "outputs": [],
   "source": [
    "# Calculates the curvature of polynomial functions in meters.\n",
    "def measure_curvature_real(image, y_eval, left_fit_cr, right_fit_cr):\n",
    "\n",
    "    # Define conversions in x and y from pixels space to meters\n",
    "    ym_per_pix = 30/720 # meters per pixel in y dimension\n",
    "    xm_per_pix = 3.7/700 # meters per pixel in x dimension\n",
    "\n",
    "    # Calculation of the relative position to the center\n",
    "    left_pos = abs(0 - (left_fit_cr[0] * (y_eval) ** 2 + left_fit_cr[1] *(y_eval) + left_fit_cr[2]))\n",
    "    right_pos = abs(image.shape[1] - (right_fit_cr[0] * (y_eval) ** 2 + right_fit_cr[1] *(y_eval) + right_fit_cr[2]))\n",
    "\n",
    "    position = (left_pos - right_pos) * xm_per_pix\n",
    "\n",
    "    ploty = np.linspace(0, image.shape[0]-1, image.shape[0] )\n",
    "\n",
    "    left_fit = left_fit_cr[0]*ploty**2 + left_fit_cr[1]*ploty + left_fit_cr[2]\n",
    "    right_fit = right_fit_cr[0]*ploty**2 + right_fit_cr[1]*ploty + right_fit_cr[2]\n",
    "\n",
    "    left_fit_cr = np.polyfit(ploty*ym_per_pix, left_fit*xm_per_pix, 2)\n",
    "    right_fit_cr = np.polyfit(ploty*ym_per_pix, right_fit*xm_per_pix, 2)\n",
    "\n",
    "\n",
    "    # Calculation of R_curve (radius of curvature)\n",
    "    left_curverad = (1 + (2*left_fit_cr[0]*y_eval*ym_per_pix + left_fit_cr[1])**2)**(3/2)/np.abs(2*left_fit_cr[0])  ## Implement the calculation of the left line here\n",
    "    right_curverad = (1 + (2*right_fit_cr[0]*y_eval*ym_per_pix + right_fit_cr[1])**2)**(3/2)/np.abs(2*right_fit_cr[0])  ## Implement the calculation of the right line here\n",
    "    avg_curverad = (left_curverad + right_curverad)/2\n",
    "        \n",
    "    return avg_curverad, position"
   ]
  },
  {
   "cell_type": "markdown",
   "metadata": {},
   "source": [
    "# MAIN"
   ]
  },
  {
   "cell_type": "code",
   "execution_count": 56,
   "metadata": {},
   "outputs": [],
   "source": [
    "def show(image, title = 'Default Title', cmap = None):\n",
    "    plt.figure()\n",
    "    plt.imshow(image, cmap)\n",
    "    plt.title(title)\n",
    "    \n",
    "def laneDetection(image):\n",
    "    \n",
    "    img_size = (image.shape[1], image.shape[0])\n",
    "#     show(image, 'Original image')\n",
    "    # Calibrate the camera\n",
    "    image = undistortImage(image)\n",
    "    \n",
    "#     # Apply the perspective transforation\n",
    "    warped, Minv = perspectiveTransform(image)\n",
    "\n",
    "    # Apply Gradient and Color thresholds\n",
    "    thresholded = applyThresholds(warped)\n",
    "    \n",
    "    # Find the polynomial for the lanes\n",
    "    y_eval = thresholded.shape[0] - 1\n",
    "    result, left_fit, right_fit = fit_polynomial(thresholded)\n",
    "\n",
    "    \n",
    "    # Plot the result\n",
    "#     f, (ax1, ax2) = plt.subplots(1, 2, figsize=(24, 9))\n",
    "#     f.tight_layout()\n",
    "#     ax1.imshow(image1)\n",
    "#     ax1.set_title('Original Image', fontsize=50)\n",
    "#     ax2.imshow(warped, cmap='gray')\n",
    "#     ax2.set_title('Perspective Changed Image', fontsize=50)\n",
    "#     plt.subplots_adjust(left=0., right=1, top=0.9, bottom=0.)\n",
    "    \n",
    "    \n",
    "    \n",
    "#     # Apply the inverse transformation to the initial perspective\n",
    "#     unwarped = cv2.warpPerspective(result, Minv, img_size , flags=cv2.INTER_LINEAR)\n",
    "#     show(warped, 'Warped image')\n",
    "#     show(thresholded, 'Thresholded image', cmap = 'gray')\n",
    "#     #show(masked, 'Masked image')\n",
    "#     show(result, 'Polynomial fit and draw the region between lines')    \n",
    "#     show(unwarped, 'Unwarped image')\n",
    "    \n",
    "    warped = cv2.cvtColor(warped, cv2.COLOR_BGR2RGB)\n",
    "    cv2.imwrite(\"video_images/warped.jpg\", warped)\n",
    "\n",
    "#     # Weight the result from the inverse transformation with the original image\n",
    "#     finalResult = cv2.addWeighted(image, 1, unwarped, 0.4, 0)\n",
    "\n",
    "#     # Calculate the radius of curvature in meters for both lane lines and the position relative to the center\n",
    "#     avg_curverad,  position = measure_curvature_real(image, y_eval, left_fit, right_fit)\n",
    "#     cv2.putText(finalResult,\"Radius of curvature: %.2f m\" % avg_curverad  , (100, 90), \n",
    "#                 cv2.FONT_HERSHEY_SIMPLEX, 1.5, (255,255,255), thickness=2)\n",
    "#     cv2.putText(finalResult, \"Relative position to the center: %.2f m\" % position , (100, 150), \n",
    "#                 cv2.FONT_HERSHEY_SIMPLEX, 1.5, (255,255,255), thickness=2)\n",
    "    \n",
    "#     return finalResult\n"
   ]
  },
  {
   "cell_type": "code",
   "execution_count": 57,
   "metadata": {
    "scrolled": false
   },
   "outputs": [
    {
     "ename": "TypeError",
     "evalue": "Image data cannot be converted to float",
     "output_type": "error",
     "traceback": [
      "\u001b[0;31m---------------------------------------------------------------------------\u001b[0m",
      "\u001b[0;31mTypeError\u001b[0m                                 Traceback (most recent call last)",
      "\u001b[0;32m<ipython-input-57-e2c32fafc271>\u001b[0m in \u001b[0;36m<module>\u001b[0;34m()\u001b[0m\n\u001b[1;32m     11\u001b[0m \u001b[0mresult\u001b[0m \u001b[0;34m=\u001b[0m \u001b[0mlaneDetection\u001b[0m\u001b[0;34m(\u001b[0m\u001b[0mimg\u001b[0m\u001b[0;34m)\u001b[0m\u001b[0;34m\u001b[0m\u001b[0m\n\u001b[1;32m     12\u001b[0m \u001b[0mplt\u001b[0m\u001b[0;34m.\u001b[0m\u001b[0mfigure\u001b[0m\u001b[0;34m(\u001b[0m\u001b[0;34m)\u001b[0m\u001b[0;34m\u001b[0m\u001b[0m\n\u001b[0;32m---> 13\u001b[0;31m \u001b[0mplt\u001b[0m\u001b[0;34m.\u001b[0m\u001b[0mimshow\u001b[0m\u001b[0;34m(\u001b[0m\u001b[0mresult\u001b[0m\u001b[0;34m)\u001b[0m\u001b[0;34m\u001b[0m\u001b[0m\n\u001b[0m\u001b[1;32m     14\u001b[0m \u001b[0;34m\u001b[0m\u001b[0m\n\u001b[1;32m     15\u001b[0m \u001b[0;31m# Read an image\u001b[0m\u001b[0;34m\u001b[0m\u001b[0;34m\u001b[0m\u001b[0m\n",
      "\u001b[0;32m/opt/conda/lib/python3.6/site-packages/matplotlib/pyplot.py\u001b[0m in \u001b[0;36mimshow\u001b[0;34m(X, cmap, norm, aspect, interpolation, alpha, vmin, vmax, origin, extent, shape, filternorm, filterrad, imlim, resample, url, hold, data, **kwargs)\u001b[0m\n\u001b[1;32m   3078\u001b[0m                         \u001b[0mfilternorm\u001b[0m\u001b[0;34m=\u001b[0m\u001b[0mfilternorm\u001b[0m\u001b[0;34m,\u001b[0m \u001b[0mfilterrad\u001b[0m\u001b[0;34m=\u001b[0m\u001b[0mfilterrad\u001b[0m\u001b[0;34m,\u001b[0m\u001b[0;34m\u001b[0m\u001b[0m\n\u001b[1;32m   3079\u001b[0m                         \u001b[0mimlim\u001b[0m\u001b[0;34m=\u001b[0m\u001b[0mimlim\u001b[0m\u001b[0;34m,\u001b[0m \u001b[0mresample\u001b[0m\u001b[0;34m=\u001b[0m\u001b[0mresample\u001b[0m\u001b[0;34m,\u001b[0m \u001b[0murl\u001b[0m\u001b[0;34m=\u001b[0m\u001b[0murl\u001b[0m\u001b[0;34m,\u001b[0m \u001b[0mdata\u001b[0m\u001b[0;34m=\u001b[0m\u001b[0mdata\u001b[0m\u001b[0;34m,\u001b[0m\u001b[0;34m\u001b[0m\u001b[0m\n\u001b[0;32m-> 3080\u001b[0;31m                         **kwargs)\n\u001b[0m\u001b[1;32m   3081\u001b[0m     \u001b[0;32mfinally\u001b[0m\u001b[0;34m:\u001b[0m\u001b[0;34m\u001b[0m\u001b[0m\n\u001b[1;32m   3082\u001b[0m         \u001b[0max\u001b[0m\u001b[0;34m.\u001b[0m\u001b[0m_hold\u001b[0m \u001b[0;34m=\u001b[0m \u001b[0mwashold\u001b[0m\u001b[0;34m\u001b[0m\u001b[0m\n",
      "\u001b[0;32m/opt/conda/lib/python3.6/site-packages/matplotlib/__init__.py\u001b[0m in \u001b[0;36minner\u001b[0;34m(ax, *args, **kwargs)\u001b[0m\n\u001b[1;32m   1708\u001b[0m                     warnings.warn(msg % (label_namer, func.__name__),\n\u001b[1;32m   1709\u001b[0m                                   RuntimeWarning, stacklevel=2)\n\u001b[0;32m-> 1710\u001b[0;31m             \u001b[0;32mreturn\u001b[0m \u001b[0mfunc\u001b[0m\u001b[0;34m(\u001b[0m\u001b[0max\u001b[0m\u001b[0;34m,\u001b[0m \u001b[0;34m*\u001b[0m\u001b[0margs\u001b[0m\u001b[0;34m,\u001b[0m \u001b[0;34m**\u001b[0m\u001b[0mkwargs\u001b[0m\u001b[0;34m)\u001b[0m\u001b[0;34m\u001b[0m\u001b[0m\n\u001b[0m\u001b[1;32m   1711\u001b[0m         \u001b[0mpre_doc\u001b[0m \u001b[0;34m=\u001b[0m \u001b[0minner\u001b[0m\u001b[0;34m.\u001b[0m\u001b[0m__doc__\u001b[0m\u001b[0;34m\u001b[0m\u001b[0m\n\u001b[1;32m   1712\u001b[0m         \u001b[0;32mif\u001b[0m \u001b[0mpre_doc\u001b[0m \u001b[0;32mis\u001b[0m \u001b[0;32mNone\u001b[0m\u001b[0;34m:\u001b[0m\u001b[0;34m\u001b[0m\u001b[0m\n",
      "\u001b[0;32m/opt/conda/lib/python3.6/site-packages/matplotlib/axes/_axes.py\u001b[0m in \u001b[0;36mimshow\u001b[0;34m(self, X, cmap, norm, aspect, interpolation, alpha, vmin, vmax, origin, extent, shape, filternorm, filterrad, imlim, resample, url, **kwargs)\u001b[0m\n\u001b[1;32m   5192\u001b[0m                               resample=resample, **kwargs)\n\u001b[1;32m   5193\u001b[0m \u001b[0;34m\u001b[0m\u001b[0m\n\u001b[0;32m-> 5194\u001b[0;31m         \u001b[0mim\u001b[0m\u001b[0;34m.\u001b[0m\u001b[0mset_data\u001b[0m\u001b[0;34m(\u001b[0m\u001b[0mX\u001b[0m\u001b[0;34m)\u001b[0m\u001b[0;34m\u001b[0m\u001b[0m\n\u001b[0m\u001b[1;32m   5195\u001b[0m         \u001b[0mim\u001b[0m\u001b[0;34m.\u001b[0m\u001b[0mset_alpha\u001b[0m\u001b[0;34m(\u001b[0m\u001b[0malpha\u001b[0m\u001b[0;34m)\u001b[0m\u001b[0;34m\u001b[0m\u001b[0m\n\u001b[1;32m   5196\u001b[0m         \u001b[0;32mif\u001b[0m \u001b[0mim\u001b[0m\u001b[0;34m.\u001b[0m\u001b[0mget_clip_path\u001b[0m\u001b[0;34m(\u001b[0m\u001b[0;34m)\u001b[0m \u001b[0;32mis\u001b[0m \u001b[0;32mNone\u001b[0m\u001b[0;34m:\u001b[0m\u001b[0;34m\u001b[0m\u001b[0m\n",
      "\u001b[0;32m/opt/conda/lib/python3.6/site-packages/matplotlib/image.py\u001b[0m in \u001b[0;36mset_data\u001b[0;34m(self, A)\u001b[0m\n\u001b[1;32m    598\u001b[0m         if (self._A.dtype != np.uint8 and\n\u001b[1;32m    599\u001b[0m                 not np.can_cast(self._A.dtype, float, \"same_kind\")):\n\u001b[0;32m--> 600\u001b[0;31m             \u001b[0;32mraise\u001b[0m \u001b[0mTypeError\u001b[0m\u001b[0;34m(\u001b[0m\u001b[0;34m\"Image data cannot be converted to float\"\u001b[0m\u001b[0;34m)\u001b[0m\u001b[0;34m\u001b[0m\u001b[0m\n\u001b[0m\u001b[1;32m    601\u001b[0m \u001b[0;34m\u001b[0m\u001b[0m\n\u001b[1;32m    602\u001b[0m         if not (self._A.ndim == 2\n",
      "\u001b[0;31mTypeError\u001b[0m: Image data cannot be converted to float"
     ]
    },
    {
     "data": {
      "image/png": "[encoded data removed]",
      "text/plain": [
       "<matplotlib.figure.Figure at 0x7f55c41c6ef0>"
      ]
     },
     "metadata": {
      "needs_background": "light"
     },
     "output_type": "display_data"
    },
    {
     "data": {
      "image/png": "[encoded data removed]",
      "text/plain": [
       "<matplotlib.figure.Figure at 0x7f55c7dd8208>"
      ]
     },
     "metadata": {
      "needs_background": "light"
     },
     "output_type": "display_data"
    }
   ],
   "source": [
    "# Read an image\n",
    "# img = mpimg.imread('video_images/frame1.jpg')\n",
    "# for i in range(1,15):\n",
    "#     img = mpimg.imread(\"video_images/frame\" + str(i) + \".jpg\")\n",
    "#     result = laneDetection(img)\n",
    "#     plt.figure()\n",
    "#     plt.title('Frame' + str(i))\n",
    "#     plt.imshow(result)\n",
    "\n",
    "img = mpimg.imread(\"test_images/test2.jpg\")\n",
    "result = laneDetection(img)\n",
    "plt.figure()\n",
    "plt.imshow(result)\n",
    "\n",
    "# Read an image\n",
    "# laneImages = list(map(laneDetection, test_images))\n",
    "# show_images(laneImages)"
   ]
  },
  {
   "cell_type": "markdown",
   "metadata": {},
   "source": [
    "# Video"
   ]
  },
  {
   "cell_type": "code",
   "execution_count": 113,
   "metadata": {},
   "outputs": [],
   "source": [
    "# Import everything needed to edit/save/watch video clips\n",
    "from moviepy.editor import VideoFileClip\n",
    "from IPython.display import HTML"
   ]
  },
  {
   "cell_type": "code",
   "execution_count": 75,
   "metadata": {},
   "outputs": [],
   "source": [
    "def process_image(image):\n",
    "    # NOTE: The output you return should be a color image (3 channel) for processing video below\n",
    "    # TODO: put your pipeline here,\n",
    "    # you should return the final output (image where lines are drawn on lanes)\n",
    "    return laneDetection(image)"
   ]
  },
  {
   "cell_type": "code",
   "execution_count": 81,
   "metadata": {
    "scrolled": false
   },
   "outputs": [
    {
     "name": "stdout",
     "output_type": "stream",
     "text": [
      "[MoviePy] >>>> Building video project_video_output.mp4\n",
      "[MoviePy] Writing video project_video_output.mp4\n"
     ]
    },
    {
     "name": "stderr",
     "output_type": "stream",
     "text": [
      " 58%|█████▊    | 728/1261 [04:06<02:54,  3.06it/s]"
     ]
    },
    {
     "name": "stdout",
     "output_type": "stream",
     "text": [
      "problema dreapta\n"
     ]
    },
    {
     "name": "stderr",
     "output_type": "stream",
     "text": [
      " 61%|██████    | 764/1261 [04:18<02:48,  2.94it/s]"
     ]
    },
    {
     "name": "stdout",
     "output_type": "stream",
     "text": [
      "problema dreapta\n"
     ]
    },
    {
     "name": "stderr",
     "output_type": "stream",
     "text": [
      "100%|█████████▉| 1260/1261 [07:09<00:00,  3.00it/s]\n"
     ]
    },
    {
     "name": "stdout",
     "output_type": "stream",
     "text": [
      "[MoviePy] Done.\n",
      "[MoviePy] >>>> Video ready: project_video_output.mp4 \n",
      "\n",
      "CPU times: user 3min 30s, sys: 1min 32s, total: 5min 2s\n",
      "Wall time: 7min 12s\n"
     ]
    }
   ],
   "source": [
    "#os.remove('project_video_output.mp4')\n",
    "#os.remove('project_video_output1.mp4')\n",
    "#os.remove('project_video_output2.mp4')\n",
    "white_output = 'project_video_output.mp4'\n",
    "## To speed up the testing process you may want to try your pipeline on a shorter subclip of the video\n",
    "## To do so add .subclip(start_second,end_second) to the end of the line below\n",
    "## Where start_second and end_second are integer values representing the start and end of the subclip\n",
    "## You may also uncomment the following line for a subclip of the first 5 seconds\n",
    "##clip1 = VideoFileClip(\"test_videos/solidWhiteRight.mp4\").subclip(0,5)\n",
    "#clip1 = VideoFileClip(\"project_video.mp4\")\n",
    "clip1 = VideoFileClip(\"project_video.mp4\")\n",
    "#clip1 = VideoFileClip(\"project_video.mp4\")\n",
    "white_clip = clip1.fl_image(process_image) #NOTE: this function expects color images!!\n",
    "%time white_clip.write_videofile(white_output, audio=False)"
   ]
  },
  {
   "cell_type": "code",
   "execution_count": 82,
   "metadata": {
    "scrolled": false
   },
   "outputs": [
    {
     "data": {
      "text/html": [
       "\n",
       "<video width=\"960\" height=\"540\" controls>\n",
       "  <source src=\"project_video_output.mp4\">\n",
       "</video>\n"
      ],
      "text/plain": [
       "<IPython.core.display.HTML object>"
      ]
     },
     "execution_count": 82,
     "metadata": {},
     "output_type": "execute_result"
    }
   ],
   "source": [
    "HTML(\"\"\"\n",
    "<video width=\"960\" height=\"540\" controls>\n",
    "  <source src=\"{0}\">\n",
    "</video>\n",
    "\"\"\".format(white_output))"
   ]
  },
  {
   "cell_type": "code",
   "execution_count": 257,
   "metadata": {},
   "outputs": [
    {
     "name": "stdout",
     "output_type": "stream",
     "text": [
      "1260\n"
     ]
    }
   ],
   "source": [
    "cap = cv2.VideoCapture('project_video.mp4')\n",
    "count = 0\n",
    "limit = 50\n",
    "while cap.isOpened():\n",
    "    ret,frame = cap.read()\n",
    "    if ret == False:\n",
    "        break\n",
    "    if (count > 0 and count < 15):\n",
    "        cv2.imwrite(\"video_images/frame%d.jpg\" % count, frame)\n",
    "    count = count + 1\n",
    "\n",
    "print(count)\n",
    "cap.release()"
   ]
  },
  {
   "cell_type": "code",
   "execution_count": 88,
   "metadata": {},
   "outputs": [
    {
     "name": "stdout",
     "output_type": "stream",
     "text": [
      "[MoviePy] >>>> Building video challenge_video_output.mp4\n",
      "[MoviePy] Writing video challenge_video_output.mp4\n"
     ]
    },
    {
     "name": "stderr",
     "output_type": "stream",
     "text": [
      "\n",
      "  0%|          | 0/485 [00:00<?, ?it/s]\u001b[A\n",
      "  0%|          | 1/485 [00:00<02:01,  3.97it/s]\u001b[A\n",
      "  0%|          | 2/485 [00:00<02:03,  3.91it/s]\u001b[A\n",
      "  1%|          | 3/485 [00:00<02:02,  3.95it/s]\u001b[A\n",
      "  1%|          | 4/485 [00:01<02:00,  3.99it/s]\u001b[A\n",
      "  1%|          | 5/485 [00:01<01:59,  4.00it/s]\u001b[A\n",
      "  1%|          | 6/485 [00:01<01:58,  4.03it/s]\u001b[A\n",
      "  1%|▏         | 7/485 [00:01<01:58,  4.03it/s]\u001b[A\n",
      "  2%|▏         | 8/485 [00:01<01:58,  4.03it/s]\u001b[A\n",
      "  2%|▏         | 9/485 [00:02<01:58,  4.03it/s]\u001b[A\n",
      "  2%|▏         | 10/485 [00:02<01:57,  4.03it/s]\u001b[A\n",
      "  2%|▏         | 11/485 [00:02<01:57,  4.03it/s]\u001b[A\n",
      "  2%|▏         | 12/485 [00:02<01:56,  4.05it/s]\u001b[A\n",
      "  3%|▎         | 13/485 [00:03<01:56,  4.07it/s]\u001b[A\n",
      "  3%|▎         | 14/485 [00:03<01:56,  4.04it/s]\u001b[A\n",
      "  3%|▎         | 15/485 [00:03<01:56,  4.03it/s]\u001b[A\n",
      "  3%|▎         | 16/485 [00:03<01:55,  4.05it/s]\u001b[A\n",
      "  4%|▎         | 17/485 [00:04<01:55,  4.07it/s]\u001b[A\n",
      "  4%|▎         | 18/485 [00:04<01:55,  4.04it/s]\u001b[A\n",
      "  4%|▍         | 19/485 [00:04<01:55,  4.03it/s]\u001b[A\n",
      "  4%|▍         | 20/485 [00:04<01:55,  4.03it/s]\u001b[A\n",
      "  4%|▍         | 21/485 [00:05<01:54,  4.05it/s]\u001b[A\n",
      "  5%|▍         | 22/485 [00:05<01:54,  4.05it/s]\u001b[A\n",
      "  5%|▍         | 23/485 [00:05<01:54,  4.04it/s]\u001b[A\n",
      "  5%|▍         | 24/485 [00:05<01:54,  4.04it/s]\u001b[A\n",
      "  5%|▌         | 25/485 [00:06<01:54,  4.02it/s]\u001b[A\n",
      "  5%|▌         | 26/485 [00:06<01:54,  4.00it/s]\u001b[A\n",
      "  6%|▌         | 27/485 [00:06<01:54,  3.99it/s]\u001b[A\n",
      "  6%|▌         | 28/485 [00:06<01:54,  4.00it/s]\u001b[A\n",
      "  6%|▌         | 29/485 [00:07<01:54,  3.99it/s]\u001b[A\n",
      "  6%|▌         | 30/485 [00:07<01:54,  3.99it/s]\u001b[A\n",
      "  6%|▋         | 31/485 [00:07<01:52,  4.02it/s]\u001b[A\n",
      "  7%|▋         | 32/485 [00:07<01:52,  4.02it/s]\u001b[A\n",
      "  7%|▋         | 33/485 [00:08<01:51,  4.05it/s]\u001b[A\n",
      "  7%|▋         | 34/485 [00:08<01:51,  4.04it/s]\u001b[A\n",
      "  7%|▋         | 35/485 [00:08<01:50,  4.06it/s]\u001b[A\n",
      "  7%|▋         | 36/485 [00:08<01:50,  4.05it/s]\u001b[A\n",
      "  8%|▊         | 37/485 [00:09<01:50,  4.06it/s]\u001b[A\n",
      "  8%|▊         | 38/485 [00:09<01:50,  4.05it/s]\u001b[A\n",
      "  8%|▊         | 39/485 [00:09<01:49,  4.07it/s]\u001b[A\n",
      "  8%|▊         | 40/485 [00:09<01:49,  4.06it/s]\u001b[A\n",
      "  8%|▊         | 41/485 [00:10<01:49,  4.05it/s]\u001b[A\n",
      "  9%|▊         | 42/485 [00:10<01:49,  4.06it/s]\u001b[A\n",
      "  9%|▉         | 43/485 [00:10<02:32,  2.90it/s]\u001b[A\n",
      "  9%|▉         | 44/485 [00:11<02:27,  2.98it/s]\u001b[A\n",
      "  9%|▉         | 45/485 [00:11<02:20,  3.14it/s]\u001b[A\n",
      "  9%|▉         | 46/485 [00:11<02:22,  3.08it/s]\u001b[A\n",
      " 10%|▉         | 47/485 [00:12<02:18,  3.16it/s]\u001b[A\n",
      " 10%|▉         | 48/485 [00:12<02:16,  3.20it/s]"
     ]
    },
    {
     "name": "stdout",
     "output_type": "stream",
     "text": [
      "problema dreapta\n"
     ]
    },
    {
     "name": "stderr",
     "output_type": "stream",
     "text": [
      "\u001b[A\n",
      " 10%|█         | 49/485 [00:12<02:23,  3.05it/s]"
     ]
    },
    {
     "name": "stdout",
     "output_type": "stream",
     "text": [
      "problema dreapta\n"
     ]
    },
    {
     "name": "stderr",
     "output_type": "stream",
     "text": [
      "\u001b[A\n",
      " 10%|█         | 50/485 [00:13<02:20,  3.09it/s]"
     ]
    },
    {
     "name": "stdout",
     "output_type": "stream",
     "text": [
      "problema dreapta\n"
     ]
    },
    {
     "name": "stderr",
     "output_type": "stream",
     "text": [
      "\u001b[A\n",
      " 11%|█         | 51/485 [00:13<02:17,  3.15it/s]"
     ]
    },
    {
     "name": "stdout",
     "output_type": "stream",
     "text": [
      "problema dreapta\n"
     ]
    },
    {
     "name": "stderr",
     "output_type": "stream",
     "text": [
      "\u001b[A\n",
      " 11%|█         | 52/485 [00:13<02:23,  3.02it/s]"
     ]
    },
    {
     "name": "stdout",
     "output_type": "stream",
     "text": [
      "problema dreapta\n"
     ]
    },
    {
     "name": "stderr",
     "output_type": "stream",
     "text": [
      "\u001b[A\n",
      " 11%|█         | 53/485 [00:14<02:19,  3.09it/s]"
     ]
    },
    {
     "name": "stdout",
     "output_type": "stream",
     "text": [
      "problema dreapta\n"
     ]
    },
    {
     "name": "stderr",
     "output_type": "stream",
     "text": [
      "\u001b[A\n",
      " 11%|█         | 54/485 [00:14<02:17,  3.14it/s]"
     ]
    },
    {
     "name": "stdout",
     "output_type": "stream",
     "text": [
      "problema dreapta\n"
     ]
    },
    {
     "name": "stderr",
     "output_type": "stream",
     "text": [
      "\u001b[A\n",
      " 11%|█▏        | 55/485 [00:14<02:22,  3.02it/s]"
     ]
    },
    {
     "name": "stdout",
     "output_type": "stream",
     "text": [
      "problema dreapta\n"
     ]
    },
    {
     "name": "stderr",
     "output_type": "stream",
     "text": [
      "\u001b[A\n",
      " 12%|█▏        | 56/485 [00:15<02:18,  3.10it/s]"
     ]
    },
    {
     "name": "stdout",
     "output_type": "stream",
     "text": [
      "problema dreapta\n"
     ]
    },
    {
     "name": "stderr",
     "output_type": "stream",
     "text": [
      "\u001b[A\n",
      " 12%|█▏        | 57/485 [00:15<02:15,  3.15it/s]"
     ]
    },
    {
     "name": "stdout",
     "output_type": "stream",
     "text": [
      "problema dreapta\n"
     ]
    },
    {
     "name": "stderr",
     "output_type": "stream",
     "text": [
      "\u001b[A\n",
      " 12%|█▏        | 58/485 [00:15<02:20,  3.04it/s]"
     ]
    },
    {
     "name": "stdout",
     "output_type": "stream",
     "text": [
      "problema dreapta\n"
     ]
    },
    {
     "name": "stderr",
     "output_type": "stream",
     "text": [
      "\u001b[A\n",
      " 12%|█▏        | 59/485 [00:16<02:17,  3.10it/s]"
     ]
    },
    {
     "name": "stdout",
     "output_type": "stream",
     "text": [
      "problema dreapta\n"
     ]
    },
    {
     "name": "stderr",
     "output_type": "stream",
     "text": [
      "\u001b[A\n",
      " 12%|█▏        | 60/485 [00:16<02:15,  3.13it/s]"
     ]
    },
    {
     "name": "stdout",
     "output_type": "stream",
     "text": [
      "problema dreapta\n"
     ]
    },
    {
     "name": "stderr",
     "output_type": "stream",
     "text": [
      "\u001b[A\n",
      " 13%|█▎        | 61/485 [00:16<02:20,  3.02it/s]"
     ]
    },
    {
     "name": "stdout",
     "output_type": "stream",
     "text": [
      "problema dreapta\n"
     ]
    },
    {
     "name": "stderr",
     "output_type": "stream",
     "text": [
      "\u001b[A\n",
      " 13%|█▎        | 62/485 [00:17<02:17,  3.08it/s]"
     ]
    },
    {
     "name": "stdout",
     "output_type": "stream",
     "text": [
      "problema dreapta\n"
     ]
    },
    {
     "name": "stderr",
     "output_type": "stream",
     "text": [
      "\u001b[A\n",
      " 13%|█▎        | 63/485 [00:17<02:15,  3.12it/s]"
     ]
    },
    {
     "name": "stdout",
     "output_type": "stream",
     "text": [
      "problema dreapta\n"
     ]
    },
    {
     "name": "stderr",
     "output_type": "stream",
     "text": [
      "\u001b[A\n",
      " 13%|█▎        | 64/485 [00:17<02:20,  3.01it/s]"
     ]
    },
    {
     "name": "stdout",
     "output_type": "stream",
     "text": [
      "problema dreapta\n"
     ]
    },
    {
     "name": "stderr",
     "output_type": "stream",
     "text": [
      "\u001b[A\n",
      " 13%|█▎        | 65/485 [00:18<02:17,  3.06it/s]"
     ]
    },
    {
     "name": "stdout",
     "output_type": "stream",
     "text": [
      "problema dreapta\n"
     ]
    },
    {
     "name": "stderr",
     "output_type": "stream",
     "text": [
      "\u001b[A\n",
      " 14%|█▎        | 66/485 [00:18<02:14,  3.11it/s]"
     ]
    },
    {
     "name": "stdout",
     "output_type": "stream",
     "text": [
      "problema dreapta\n"
     ]
    },
    {
     "name": "stderr",
     "output_type": "stream",
     "text": [
      "\u001b[A\n",
      " 14%|█▍        | 67/485 [00:18<02:19,  2.99it/s]"
     ]
    },
    {
     "name": "stdout",
     "output_type": "stream",
     "text": [
      "problema dreapta\n"
     ]
    },
    {
     "name": "stderr",
     "output_type": "stream",
     "text": [
      "\u001b[A\n",
      " 14%|█▍        | 68/485 [00:19<02:16,  3.05it/s]"
     ]
    },
    {
     "name": "stdout",
     "output_type": "stream",
     "text": [
      "problema dreapta\n"
     ]
    },
    {
     "name": "stderr",
     "output_type": "stream",
     "text": [
      "\u001b[A\n",
      " 14%|█▍        | 69/485 [00:19<02:14,  3.10it/s]"
     ]
    },
    {
     "name": "stdout",
     "output_type": "stream",
     "text": [
      "problema dreapta\n"
     ]
    },
    {
     "name": "stderr",
     "output_type": "stream",
     "text": [
      "\u001b[A\n",
      " 14%|█▍        | 70/485 [00:19<02:18,  3.00it/s]"
     ]
    },
    {
     "name": "stdout",
     "output_type": "stream",
     "text": [
      "problema dreapta\n"
     ]
    },
    {
     "name": "stderr",
     "output_type": "stream",
     "text": [
      "\u001b[A\n",
      " 15%|█▍        | 71/485 [00:20<02:14,  3.08it/s]"
     ]
    },
    {
     "name": "stdout",
     "output_type": "stream",
     "text": [
      "problema dreapta\n"
     ]
    },
    {
     "name": "stderr",
     "output_type": "stream",
     "text": [
      "\u001b[A\n",
      " 15%|█▍        | 72/485 [00:20<02:11,  3.13it/s]"
     ]
    },
    {
     "name": "stdout",
     "output_type": "stream",
     "text": [
      "problema dreapta\n"
     ]
    },
    {
     "name": "stderr",
     "output_type": "stream",
     "text": [
      "\u001b[A\n",
      " 15%|█▌        | 73/485 [00:20<02:17,  3.01it/s]"
     ]
    },
    {
     "name": "stdout",
     "output_type": "stream",
     "text": [
      "problema dreapta\n"
     ]
    },
    {
     "name": "stderr",
     "output_type": "stream",
     "text": [
      "\u001b[A\n",
      " 15%|█▌        | 74/485 [00:21<02:12,  3.10it/s]"
     ]
    },
    {
     "name": "stdout",
     "output_type": "stream",
     "text": [
      "problema dreapta\n"
     ]
    },
    {
     "name": "stderr",
     "output_type": "stream",
     "text": [
      "\u001b[A\n",
      " 15%|█▌        | 75/485 [00:21<02:15,  3.02it/s]"
     ]
    },
    {
     "name": "stdout",
     "output_type": "stream",
     "text": [
      "problema dreapta\n"
     ]
    },
    {
     "name": "stderr",
     "output_type": "stream",
     "text": [
      "\u001b[A\n",
      " 16%|█▌        | 76/485 [00:21<02:12,  3.09it/s]"
     ]
    },
    {
     "name": "stdout",
     "output_type": "stream",
     "text": [
      "problema dreapta\n"
     ]
    },
    {
     "name": "stderr",
     "output_type": "stream",
     "text": [
      "\u001b[A\n",
      " 16%|█▌        | 77/485 [00:21<02:09,  3.15it/s]"
     ]
    },
    {
     "name": "stdout",
     "output_type": "stream",
     "text": [
      "problema dreapta\n"
     ]
    },
    {
     "name": "stderr",
     "output_type": "stream",
     "text": [
      "\u001b[A\n",
      " 16%|█▌        | 78/485 [00:22<02:15,  3.01it/s]"
     ]
    },
    {
     "name": "stdout",
     "output_type": "stream",
     "text": [
      "problema dreapta\n"
     ]
    },
    {
     "name": "stderr",
     "output_type": "stream",
     "text": [
      "\u001b[A\n",
      " 16%|█▋        | 79/485 [00:22<02:13,  3.05it/s]"
     ]
    },
    {
     "name": "stdout",
     "output_type": "stream",
     "text": [
      "problema dreapta\n"
     ]
    },
    {
     "name": "stderr",
     "output_type": "stream",
     "text": [
      "\u001b[A\n",
      " 16%|█▋        | 80/485 [00:22<02:10,  3.10it/s]"
     ]
    },
    {
     "name": "stdout",
     "output_type": "stream",
     "text": [
      "problema dreapta\n"
     ]
    },
    {
     "name": "stderr",
     "output_type": "stream",
     "text": [
      "\u001b[A\n",
      " 17%|█▋        | 81/485 [00:23<02:15,  2.97it/s]"
     ]
    },
    {
     "name": "stdout",
     "output_type": "stream",
     "text": [
      "problema dreapta\n"
     ]
    },
    {
     "name": "stderr",
     "output_type": "stream",
     "text": [
      "\u001b[A\n",
      " 17%|█▋        | 82/485 [00:23<02:12,  3.05it/s]"
     ]
    },
    {
     "name": "stdout",
     "output_type": "stream",
     "text": [
      "problema dreapta\n"
     ]
    },
    {
     "name": "stderr",
     "output_type": "stream",
     "text": [
      "\u001b[A\n",
      " 17%|█▋        | 83/485 [00:23<02:08,  3.12it/s]"
     ]
    },
    {
     "name": "stdout",
     "output_type": "stream",
     "text": [
      "problema dreapta\n"
     ]
    },
    {
     "name": "stderr",
     "output_type": "stream",
     "text": [
      "\u001b[A\n",
      " 17%|█▋        | 84/485 [00:24<02:13,  3.01it/s]"
     ]
    },
    {
     "name": "stdout",
     "output_type": "stream",
     "text": [
      "problema dreapta\n"
     ]
    },
    {
     "name": "stderr",
     "output_type": "stream",
     "text": [
      "\u001b[A\n",
      " 18%|█▊        | 85/485 [00:24<02:11,  3.05it/s]"
     ]
    },
    {
     "name": "stdout",
     "output_type": "stream",
     "text": [
      "problema dreapta\n"
     ]
    },
    {
     "name": "stderr",
     "output_type": "stream",
     "text": [
      "\u001b[A\n",
      " 18%|█▊        | 86/485 [00:24<02:09,  3.09it/s]"
     ]
    },
    {
     "name": "stdout",
     "output_type": "stream",
     "text": [
      "problema dreapta\n"
     ]
    },
    {
     "name": "stderr",
     "output_type": "stream",
     "text": [
      "\u001b[A\n",
      " 18%|█▊        | 87/485 [00:25<02:11,  3.02it/s]"
     ]
    },
    {
     "name": "stdout",
     "output_type": "stream",
     "text": [
      "problema dreapta\n"
     ]
    },
    {
     "name": "stderr",
     "output_type": "stream",
     "text": [
      "\u001b[A\n",
      " 18%|█▊        | 88/485 [00:25<02:07,  3.11it/s]"
     ]
    },
    {
     "name": "stdout",
     "output_type": "stream",
     "text": [
      "problema dreapta\n"
     ]
    },
    {
     "name": "stderr",
     "output_type": "stream",
     "text": [
      "\u001b[A\n",
      " 18%|█▊        | 89/485 [00:25<02:11,  3.02it/s]"
     ]
    },
    {
     "name": "stdout",
     "output_type": "stream",
     "text": [
      "problema stanga\n"
     ]
    },
    {
     "name": "stderr",
     "output_type": "stream",
     "text": [
      "\u001b[A\n",
      " 19%|█▊        | 90/485 [00:26<02:07,  3.09it/s]\u001b[A\n",
      " 19%|█▉        | 91/485 [00:26<02:04,  3.16it/s]\u001b[A\n",
      " 19%|█▉        | 92/485 [00:26<02:08,  3.07it/s]\u001b[A\n",
      " 19%|█▉        | 93/485 [00:27<02:03,  3.18it/s]\u001b[A\n",
      " 19%|█▉        | 94/485 [00:27<02:06,  3.09it/s]"
     ]
    },
    {
     "name": "stdout",
     "output_type": "stream",
     "text": [
      "problema dreapta\n"
     ]
    },
    {
     "name": "stderr",
     "output_type": "stream",
     "text": [
      "\u001b[A\n",
      " 20%|█▉        | 95/485 [00:27<02:02,  3.17it/s]"
     ]
    },
    {
     "name": "stdout",
     "output_type": "stream",
     "text": [
      "problema dreapta\n"
     ]
    },
    {
     "name": "stderr",
     "output_type": "stream",
     "text": [
      "\u001b[A\n",
      " 20%|█▉        | 96/485 [00:28<02:06,  3.08it/s]\u001b[A\n",
      " 20%|██        | 97/485 [00:28<02:03,  3.14it/s]\u001b[A\n",
      " 20%|██        | 98/485 [00:28<02:07,  3.03it/s]\u001b[A\n",
      " 20%|██        | 99/485 [00:29<02:04,  3.09it/s]\u001b[A\n",
      " 21%|██        | 100/485 [00:29<02:01,  3.16it/s]\u001b[A\n",
      " 21%|██        | 101/485 [00:29<02:05,  3.07it/s]\u001b[A\n",
      " 21%|██        | 102/485 [00:30<02:00,  3.17it/s]\u001b[A\n",
      " 21%|██        | 103/485 [00:30<02:05,  3.04it/s]\u001b[A\n",
      " 21%|██▏       | 104/485 [00:30<02:02,  3.11it/s]\u001b[A\n",
      " 22%|██▏       | 105/485 [00:31<02:05,  3.04it/s]\u001b[A\n",
      " 22%|██▏       | 106/485 [00:31<02:01,  3.12it/s]\u001b[A\n",
      " 22%|██▏       | 107/485 [00:31<02:04,  3.04it/s]"
     ]
    },
    {
     "name": "stdout",
     "output_type": "stream",
     "text": [
      "problema stanga\n"
     ]
    },
    {
     "name": "stderr",
     "output_type": "stream",
     "text": [
      "\u001b[A\n",
      " 22%|██▏       | 108/485 [00:32<02:01,  3.11it/s]"
     ]
    },
    {
     "name": "stdout",
     "output_type": "stream",
     "text": [
      "problema stanga\n"
     ]
    },
    {
     "name": "stderr",
     "output_type": "stream",
     "text": [
      "\u001b[A\n",
      " 22%|██▏       | 109/485 [00:32<02:04,  3.03it/s]\u001b[A\n",
      " 23%|██▎       | 110/485 [00:32<02:01,  3.09it/s]\u001b[A\n",
      " 23%|██▎       | 111/485 [00:33<02:04,  3.01it/s]\u001b[A\n",
      " 23%|██▎       | 112/485 [00:33<01:59,  3.11it/s]\u001b[A\n",
      " 23%|██▎       | 113/485 [00:33<02:02,  3.03it/s]\u001b[A\n",
      " 24%|██▎       | 114/485 [00:33<01:59,  3.11it/s]\u001b[A\n",
      " 24%|██▎       | 115/485 [00:34<02:01,  3.05it/s]\u001b[A\n",
      " 24%|██▍       | 116/485 [00:34<01:57,  3.14it/s]\u001b[A\n",
      " 24%|██▍       | 117/485 [00:34<02:00,  3.07it/s]\u001b[A\n",
      " 24%|██▍       | 118/485 [00:35<01:55,  3.17it/s]\u001b[A\n",
      " 25%|██▍       | 119/485 [00:35<01:57,  3.11it/s]\u001b[A\n",
      " 25%|██▍       | 120/485 [00:35<01:55,  3.17it/s]\u001b[A\n",
      " 25%|██▍       | 121/485 [00:36<01:59,  3.04it/s]\u001b[A\n",
      " 25%|██▌       | 122/485 [00:36<01:55,  3.15it/s]\u001b[A\n",
      " 25%|██▌       | 123/485 [00:36<01:57,  3.08it/s]"
     ]
    },
    {
     "name": "stdout",
     "output_type": "stream",
     "text": [
      "problema stanga\n"
     ]
    },
    {
     "name": "stderr",
     "output_type": "stream",
     "text": [
      "\u001b[A\n",
      " 26%|██▌       | 124/485 [00:37<01:54,  3.15it/s]"
     ]
    },
    {
     "name": "stdout",
     "output_type": "stream",
     "text": [
      "problema stanga\n"
     ]
    },
    {
     "name": "stderr",
     "output_type": "stream",
     "text": [
      "\u001b[A\n",
      " 26%|██▌       | 125/485 [00:37<01:57,  3.08it/s]"
     ]
    },
    {
     "name": "stdout",
     "output_type": "stream",
     "text": [
      "problema stanga\n"
     ]
    },
    {
     "name": "stderr",
     "output_type": "stream",
     "text": [
      "\u001b[A\n",
      " 26%|██▌       | 126/485 [00:37<01:54,  3.15it/s]"
     ]
    },
    {
     "name": "stdout",
     "output_type": "stream",
     "text": [
      "problema stanga\n"
     ]
    },
    {
     "name": "stderr",
     "output_type": "stream",
     "text": [
      "\u001b[A\n",
      " 26%|██▌       | 127/485 [00:38<01:56,  3.08it/s]"
     ]
    },
    {
     "name": "stdout",
     "output_type": "stream",
     "text": [
      "problema stanga\n"
     ]
    },
    {
     "name": "stderr",
     "output_type": "stream",
     "text": [
      "\u001b[A\n",
      " 26%|██▋       | 128/485 [00:38<01:53,  3.15it/s]\u001b[A\n",
      " 27%|██▋       | 129/485 [00:38<01:55,  3.09it/s]\u001b[A\n",
      " 27%|██▋       | 130/485 [00:39<01:51,  3.18it/s]"
     ]
    },
    {
     "name": "stdout",
     "output_type": "stream",
     "text": [
      "problema stanga\n"
     ]
    },
    {
     "name": "stderr",
     "output_type": "stream",
     "text": [
      "\u001b[A\n",
      " 27%|██▋       | 131/485 [00:39<01:54,  3.09it/s]"
     ]
    },
    {
     "name": "stdout",
     "output_type": "stream",
     "text": [
      "problema stanga\n"
     ]
    },
    {
     "name": "stderr",
     "output_type": "stream",
     "text": [
      "\u001b[A\n",
      " 27%|██▋       | 132/485 [00:39<01:51,  3.17it/s]"
     ]
    },
    {
     "name": "stdout",
     "output_type": "stream",
     "text": [
      "problema stanga\n"
     ]
    },
    {
     "name": "stderr",
     "output_type": "stream",
     "text": [
      "\u001b[A\n",
      " 27%|██▋       | 133/485 [00:40<01:55,  3.05it/s]"
     ]
    },
    {
     "name": "stdout",
     "output_type": "stream",
     "text": [
      "problema stanga\n",
      "problema dreapta\n"
     ]
    },
    {
     "name": "stderr",
     "output_type": "stream",
     "text": [
      "\u001b[A\n",
      " 28%|██▊       | 134/485 [00:40<01:52,  3.12it/s]"
     ]
    },
    {
     "name": "stdout",
     "output_type": "stream",
     "text": [
      "problema stanga\n",
      "problema dreapta\n"
     ]
    },
    {
     "name": "stderr",
     "output_type": "stream",
     "text": [
      "\u001b[A\n",
      " 28%|██▊       | 135/485 [00:40<01:55,  3.04it/s]"
     ]
    },
    {
     "name": "stdout",
     "output_type": "stream",
     "text": [
      "problema stanga\n",
      "problema dreapta\n"
     ]
    },
    {
     "name": "stderr",
     "output_type": "stream",
     "text": [
      "\u001b[A\n",
      " 28%|██▊       | 136/485 [00:41<01:51,  3.12it/s]"
     ]
    },
    {
     "name": "stdout",
     "output_type": "stream",
     "text": [
      "problema dreapta\n"
     ]
    },
    {
     "name": "stderr",
     "output_type": "stream",
     "text": [
      "\u001b[A\n",
      " 28%|██▊       | 137/485 [00:41<01:54,  3.04it/s]"
     ]
    },
    {
     "name": "stdout",
     "output_type": "stream",
     "text": [
      "problema dreapta\n"
     ]
    },
    {
     "name": "stderr",
     "output_type": "stream",
     "text": [
      "\u001b[A\n",
      " 28%|██▊       | 138/485 [00:41<01:52,  3.09it/s]\u001b[A\n",
      " 29%|██▊       | 139/485 [00:42<01:54,  3.01it/s]\u001b[A\n",
      " 29%|██▉       | 140/485 [00:42<01:52,  3.07it/s]"
     ]
    },
    {
     "name": "stdout",
     "output_type": "stream",
     "text": [
      "problema stanga\n"
     ]
    },
    {
     "name": "stderr",
     "output_type": "stream",
     "text": [
      "\u001b[A\n",
      " 29%|██▉       | 141/485 [00:42<01:56,  2.96it/s]\u001b[A\n",
      " 29%|██▉       | 142/485 [00:43<01:53,  3.02it/s]"
     ]
    },
    {
     "name": "stdout",
     "output_type": "stream",
     "text": [
      "problema stanga\n"
     ]
    },
    {
     "name": "stderr",
     "output_type": "stream",
     "text": [
      "\u001b[A\n",
      " 29%|██▉       | 143/485 [00:43<01:56,  2.93it/s]\u001b[A\n",
      " 30%|██▉       | 144/485 [00:43<01:54,  2.99it/s]\u001b[A\n",
      " 30%|██▉       | 145/485 [00:44<01:57,  2.90it/s]\u001b[A\n",
      " 30%|███       | 146/485 [00:44<01:54,  2.95it/s]\u001b[A\n",
      " 30%|███       | 147/485 [00:44<01:57,  2.88it/s]\u001b[A\n",
      " 31%|███       | 148/485 [00:45<01:54,  2.94it/s]\u001b[A\n",
      " 31%|███       | 149/485 [00:45<01:58,  2.84it/s]\u001b[A\n",
      " 31%|███       | 150/485 [00:45<01:56,  2.88it/s]\u001b[A\n",
      " 31%|███       | 151/485 [00:46<01:57,  2.84it/s]\u001b[A\n",
      " 31%|███▏      | 152/485 [00:46<01:59,  2.79it/s]\u001b[A\n",
      " 32%|███▏      | 153/485 [00:46<01:56,  2.85it/s]\u001b[A\n",
      " 32%|███▏      | 154/485 [00:47<01:59,  2.77it/s]\u001b[A\n",
      " 32%|███▏      | 155/485 [00:47<01:57,  2.82it/s]\u001b[A\n",
      " 32%|███▏      | 156/485 [00:48<01:58,  2.79it/s]\u001b[A\n",
      " 32%|███▏      | 157/485 [00:48<02:02,  2.67it/s]"
     ]
    },
    {
     "name": "stdout",
     "output_type": "stream",
     "text": [
      "problema stanga\n"
     ]
    },
    {
     "name": "stderr",
     "output_type": "stream",
     "text": [
      "\u001b[A\n",
      " 33%|███▎      | 158/485 [00:48<02:03,  2.66it/s]"
     ]
    },
    {
     "name": "stdout",
     "output_type": "stream",
     "text": [
      "problema stanga\n"
     ]
    },
    {
     "name": "stderr",
     "output_type": "stream",
     "text": [
      "\u001b[A\n",
      " 33%|███▎      | 159/485 [00:49<02:03,  2.65it/s]"
     ]
    },
    {
     "name": "stdout",
     "output_type": "stream",
     "text": [
      "problema stanga\n"
     ]
    },
    {
     "name": "stderr",
     "output_type": "stream",
     "text": [
      "\u001b[A\n",
      " 33%|███▎      | 160/485 [00:49<02:02,  2.64it/s]"
     ]
    },
    {
     "name": "stdout",
     "output_type": "stream",
     "text": [
      "problema stanga\n"
     ]
    },
    {
     "name": "stderr",
     "output_type": "stream",
     "text": [
      "\u001b[A\n",
      " 33%|███▎      | 161/485 [00:49<02:01,  2.67it/s]"
     ]
    },
    {
     "name": "stdout",
     "output_type": "stream",
     "text": [
      "problema stanga\n"
     ]
    },
    {
     "name": "stderr",
     "output_type": "stream",
     "text": [
      "\u001b[A\n",
      " 33%|███▎      | 162/485 [00:50<02:01,  2.66it/s]"
     ]
    },
    {
     "name": "stdout",
     "output_type": "stream",
     "text": [
      "problema stanga\n"
     ]
    },
    {
     "name": "stderr",
     "output_type": "stream",
     "text": [
      "\u001b[A\n",
      " 34%|███▎      | 163/485 [00:50<02:02,  2.63it/s]"
     ]
    },
    {
     "name": "stdout",
     "output_type": "stream",
     "text": [
      "problema stanga\n"
     ]
    },
    {
     "name": "stderr",
     "output_type": "stream",
     "text": [
      "\u001b[A\n",
      " 34%|███▍      | 164/485 [00:51<02:00,  2.67it/s]\u001b[A\n",
      " 34%|███▍      | 165/485 [00:51<01:58,  2.70it/s]\u001b[A\n",
      " 34%|███▍      | 166/485 [00:51<01:57,  2.72it/s]\u001b[A\n",
      " 34%|███▍      | 167/485 [00:52<01:55,  2.75it/s]\u001b[A\n",
      " 35%|███▍      | 168/485 [00:52<01:55,  2.75it/s]\u001b[A\n",
      " 35%|███▍      | 169/485 [00:52<01:54,  2.76it/s]\u001b[A\n",
      " 35%|███▌      | 170/485 [00:53<01:54,  2.75it/s]\u001b[A\n",
      " 35%|███▌      | 171/485 [00:53<01:53,  2.77it/s]\u001b[A\n",
      " 35%|███▌      | 172/485 [00:53<01:51,  2.80it/s]\u001b[A\n",
      " 36%|███▌      | 173/485 [00:54<01:50,  2.82it/s]\u001b[A\n",
      " 36%|███▌      | 174/485 [00:54<01:49,  2.83it/s]\u001b[A\n",
      " 36%|███▌      | 175/485 [00:54<01:49,  2.84it/s]\u001b[A\n",
      " 36%|███▋      | 176/485 [00:55<01:47,  2.88it/s]\u001b[A\n",
      " 36%|███▋      | 177/485 [00:55<01:46,  2.88it/s]\u001b[A\n",
      " 37%|███▋      | 178/485 [00:56<01:46,  2.88it/s]\u001b[A\n",
      " 37%|███▋      | 179/485 [00:56<01:45,  2.90it/s]\u001b[A\n",
      " 37%|███▋      | 180/485 [00:56<01:45,  2.90it/s]\u001b[A\n",
      " 37%|███▋      | 181/485 [00:57<01:44,  2.91it/s]\u001b[A\n",
      " 38%|███▊      | 182/485 [00:57<01:43,  2.93it/s]\u001b[A\n",
      " 38%|███▊      | 183/485 [00:57<01:43,  2.92it/s]\u001b[A\n",
      " 38%|███▊      | 184/485 [00:58<01:42,  2.95it/s]\u001b[A\n",
      " 38%|███▊      | 185/485 [00:58<01:42,  2.94it/s]\u001b[A\n",
      " 38%|███▊      | 186/485 [00:58<01:41,  2.94it/s]\u001b[A\n",
      " 39%|███▊      | 187/485 [00:59<01:40,  2.97it/s]\u001b[A\n",
      " 39%|███▉      | 188/485 [00:59<01:39,  2.99it/s]\u001b[A\n",
      " 39%|███▉      | 189/485 [00:59<01:38,  3.00it/s]\u001b[A\n",
      " 39%|███▉      | 190/485 [01:00<01:38,  2.99it/s]\u001b[A\n",
      " 39%|███▉      | 191/485 [01:00<01:35,  3.09it/s]\u001b[A\n",
      " 40%|███▉      | 192/485 [01:00<01:36,  3.03it/s]\u001b[A\n",
      " 40%|███▉      | 193/485 [01:01<01:38,  2.96it/s]\u001b[A\n",
      " 40%|████      | 194/485 [01:01<01:34,  3.07it/s]\u001b[A\n",
      " 40%|████      | 195/485 [01:01<01:37,  2.98it/s]\u001b[A\n",
      " 40%|████      | 196/485 [01:02<01:33,  3.10it/s]\u001b[A\n",
      " 41%|████      | 197/485 [01:02<01:35,  3.01it/s]\u001b[A\n",
      " 41%|████      | 198/485 [01:02<01:31,  3.12it/s]\u001b[A\n",
      " 41%|████      | 199/485 [01:02<01:34,  3.04it/s]\u001b[A\n",
      " 41%|████      | 200/485 [01:03<01:33,  3.05it/s]\u001b[A\n",
      " 41%|████▏     | 201/485 [01:03<01:34,  3.02it/s]\u001b[A\n",
      " 42%|████▏     | 202/485 [01:04<01:34,  2.99it/s]\u001b[A\n",
      " 42%|████▏     | 203/485 [01:04<01:31,  3.09it/s]\u001b[A\n",
      " 42%|████▏     | 204/485 [01:04<01:32,  3.05it/s]\u001b[A\n",
      " 42%|████▏     | 205/485 [01:04<01:32,  3.01it/s]\u001b[A\n",
      " 42%|████▏     | 206/485 [01:05<01:33,  2.97it/s]\u001b[A\n",
      " 43%|████▎     | 207/485 [01:05<01:30,  3.07it/s]\u001b[A\n",
      " 43%|████▎     | 208/485 [01:05<01:32,  3.01it/s]\u001b[A\n",
      " 43%|████▎     | 209/485 [01:06<01:29,  3.10it/s]\u001b[A\n",
      " 43%|████▎     | 210/485 [01:06<01:33,  2.94it/s]\u001b[A\n",
      " 44%|████▎     | 211/485 [01:06<01:29,  3.06it/s]\u001b[A\n",
      " 44%|████▎     | 212/485 [01:07<01:31,  2.99it/s]\u001b[A\n",
      " 44%|████▍     | 213/485 [01:07<01:27,  3.11it/s]\u001b[A\n",
      " 44%|████▍     | 214/485 [01:07<01:30,  2.98it/s]\u001b[A\n",
      " 44%|████▍     | 215/485 [01:08<01:26,  3.11it/s]\u001b[A\n",
      " 45%|████▍     | 216/485 [01:08<01:28,  3.04it/s]\u001b[A\n",
      " 45%|████▍     | 217/485 [01:08<01:24,  3.16it/s]\u001b[A\n",
      " 45%|████▍     | 218/485 [01:09<01:26,  3.08it/s]\u001b[A\n",
      " 45%|████▌     | 219/485 [01:09<01:24,  3.16it/s]\u001b[A\n",
      " 45%|████▌     | 220/485 [01:09<01:28,  3.00it/s]\u001b[A\n",
      " 46%|████▌     | 221/485 [01:10<01:24,  3.11it/s]\u001b[A\n",
      " 46%|████▌     | 222/485 [01:10<01:29,  2.95it/s]\u001b[A\n",
      " 46%|████▌     | 223/485 [01:10<01:26,  3.03it/s]\u001b[A\n",
      " 46%|████▌     | 224/485 [01:11<01:27,  2.98it/s]\u001b[A\n",
      " 46%|████▋     | 225/485 [01:11<01:24,  3.08it/s]\u001b[A\n",
      " 47%|████▋     | 226/485 [01:11<01:26,  3.00it/s]\u001b[A\n",
      " 47%|████▋     | 227/485 [01:12<01:23,  3.10it/s]\u001b[A\n",
      " 47%|████▋     | 228/485 [01:12<01:25,  3.01it/s]\u001b[A\n",
      " 47%|████▋     | 229/485 [01:12<01:21,  3.13it/s]\u001b[A\n",
      " 47%|████▋     | 230/485 [01:13<01:25,  2.99it/s]\u001b[A\n",
      " 48%|████▊     | 231/485 [01:13<01:21,  3.11it/s]\u001b[A\n",
      " 48%|████▊     | 232/485 [01:13<01:21,  3.09it/s]\u001b[A\n",
      " 48%|████▊     | 233/485 [01:14<01:24,  2.98it/s]\u001b[A\n",
      " 48%|████▊     | 234/485 [01:14<01:22,  3.05it/s]\u001b[A\n",
      " 48%|████▊     | 235/485 [01:14<01:22,  3.04it/s]\u001b[A\n",
      " 49%|████▊     | 236/485 [01:15<01:22,  3.02it/s]\u001b[A\n",
      " 49%|████▉     | 237/485 [01:15<01:19,  3.12it/s]\u001b[A\n",
      " 49%|████▉     | 238/485 [01:15<01:22,  2.99it/s]\u001b[A\n",
      " 49%|████▉     | 239/485 [01:16<01:19,  3.11it/s]\u001b[A\n",
      " 49%|████▉     | 240/485 [01:16<01:21,  2.99it/s]\u001b[A\n",
      " 50%|████▉     | 241/485 [01:16<01:18,  3.11it/s]\u001b[A\n",
      " 50%|████▉     | 242/485 [01:17<01:18,  3.09it/s]\u001b[A\n",
      " 50%|█████     | 243/485 [01:17<01:20,  3.00it/s]\u001b[A\n",
      " 50%|█████     | 244/485 [01:17<01:17,  3.12it/s]\u001b[A\n",
      " 51%|█████     | 245/485 [01:18<01:19,  3.01it/s]\u001b[A\n",
      " 51%|█████     | 246/485 [01:18<01:17,  3.10it/s]\u001b[A\n",
      " 51%|█████     | 247/485 [01:18<01:18,  3.02it/s]\u001b[A\n",
      " 51%|█████     | 248/485 [01:19<01:16,  3.12it/s]\u001b[A\n",
      " 51%|█████▏    | 249/485 [01:19<01:14,  3.17it/s]\u001b[A\n",
      " 52%|█████▏    | 250/485 [01:19<01:17,  3.05it/s]\u001b[A\n",
      " 52%|█████▏    | 251/485 [01:20<01:14,  3.13it/s]\u001b[A\n",
      " 52%|█████▏    | 252/485 [01:20<01:13,  3.19it/s]\u001b[A\n",
      " 52%|█████▏    | 253/485 [01:20<01:16,  3.03it/s]\u001b[A\n",
      " 52%|█████▏    | 254/485 [01:20<01:13,  3.13it/s]\u001b[A\n",
      " 53%|█████▎    | 255/485 [01:21<01:15,  3.05it/s]\u001b[A\n",
      " 53%|█████▎    | 256/485 [01:21<01:13,  3.11it/s]\u001b[A\n",
      " 53%|█████▎    | 257/485 [01:21<01:11,  3.18it/s]\u001b[A\n",
      " 53%|█████▎    | 258/485 [01:22<01:15,  3.02it/s]\u001b[A\n",
      " 53%|█████▎    | 259/485 [01:22<01:12,  3.10it/s]\u001b[A\n",
      " 54%|█████▎    | 260/485 [01:22<01:11,  3.15it/s]\u001b[A\n",
      " 54%|█████▍    | 261/485 [01:23<01:13,  3.03it/s]\u001b[A\n",
      " 54%|█████▍    | 262/485 [01:23<01:11,  3.10it/s]\u001b[A\n",
      " 54%|█████▍    | 263/485 [01:23<01:10,  3.16it/s]\u001b[A\n",
      " 54%|█████▍    | 264/485 [01:24<01:12,  3.03it/s]\u001b[A\n",
      " 55%|█████▍    | 265/485 [01:24<01:11,  3.09it/s]\u001b[A\n",
      " 55%|█████▍    | 266/485 [01:24<01:09,  3.15it/s]\u001b[A\n",
      " 55%|█████▌    | 267/485 [01:25<01:12,  3.02it/s]\u001b[A\n",
      " 55%|█████▌    | 268/485 [01:25<01:10,  3.09it/s]\u001b[A\n",
      " 55%|█████▌    | 269/485 [01:25<01:08,  3.16it/s]\u001b[A\n",
      " 56%|█████▌    | 270/485 [01:26<01:11,  3.01it/s]\u001b[A\n",
      " 56%|█████▌    | 271/485 [01:26<01:08,  3.13it/s]\u001b[A\n",
      " 56%|█████▌    | 272/485 [01:26<01:09,  3.05it/s]\u001b[A\n",
      " 56%|█████▋    | 273/485 [01:27<01:07,  3.13it/s]\u001b[A\n",
      " 56%|█████▋    | 274/485 [01:27<01:06,  3.19it/s]\u001b[A\n",
      " 57%|█████▋    | 275/485 [01:27<01:09,  3.04it/s]\u001b[A\n",
      " 57%|█████▋    | 276/485 [01:28<01:07,  3.11it/s]\u001b[A\n",
      " 57%|█████▋    | 277/485 [01:28<01:06,  3.15it/s]\u001b[A\n",
      " 57%|█████▋    | 278/485 [01:28<01:08,  3.01it/s]\u001b[A\n",
      " 58%|█████▊    | 279/485 [01:29<01:06,  3.09it/s]\u001b[A\n",
      " 58%|█████▊    | 280/485 [01:29<01:05,  3.13it/s]\u001b[A\n",
      " 58%|█████▊    | 281/485 [01:29<01:06,  3.06it/s]\u001b[A\n",
      " 58%|█████▊    | 282/485 [01:30<01:04,  3.16it/s]\u001b[A\n",
      " 58%|█████▊    | 283/485 [01:30<01:06,  3.04it/s]\u001b[A\n",
      " 59%|█████▊    | 284/485 [01:30<01:06,  3.04it/s]\u001b[A\n",
      " 59%|█████▉    | 285/485 [01:31<01:14,  2.69it/s]\u001b[A\n",
      " 59%|█████▉    | 286/485 [01:31<01:09,  2.85it/s]\u001b[A\n",
      " 59%|█████▉    | 287/485 [01:31<01:06,  2.97it/s]\u001b[A\n",
      " 59%|█████▉    | 288/485 [01:32<01:07,  2.91it/s]\u001b[A\n",
      " 60%|█████▉    | 289/485 [01:32<01:04,  3.02it/s]\u001b[A\n",
      " 60%|█████▉    | 290/485 [01:32<01:03,  3.09it/s]\u001b[A\n",
      " 60%|██████    | 291/485 [01:33<01:03,  3.04it/s]\u001b[A\n",
      " 60%|██████    | 292/485 [01:33<01:01,  3.12it/s]\u001b[A\n",
      " 60%|██████    | 293/485 [01:33<01:00,  3.16it/s]\u001b[A\n",
      " 61%|██████    | 294/485 [01:34<01:00,  3.18it/s]\u001b[A\n",
      " 61%|██████    | 295/485 [01:34<00:58,  3.26it/s]\u001b[A\n",
      " 61%|██████    | 296/485 [01:34<00:57,  3.28it/s]\u001b[A\n",
      " 61%|██████    | 297/485 [01:34<01:00,  3.13it/s]\u001b[A\n",
      " 61%|██████▏   | 298/485 [01:35<00:58,  3.17it/s]\u001b[A\n",
      " 62%|██████▏   | 299/485 [01:35<00:57,  3.21it/s]\u001b[A\n",
      " 62%|██████▏   | 300/485 [01:35<01:01,  3.02it/s]\u001b[A\n",
      " 62%|██████▏   | 301/485 [01:36<00:59,  3.07it/s]\u001b[A\n",
      " 62%|██████▏   | 302/485 [01:36<00:58,  3.15it/s]\u001b[A\n",
      " 62%|██████▏   | 303/485 [01:36<01:00,  3.03it/s]\u001b[A\n",
      " 63%|██████▎   | 304/485 [01:37<00:58,  3.10it/s]\u001b[A\n",
      " 63%|██████▎   | 305/485 [01:37<00:57,  3.16it/s]\u001b[A\n",
      " 63%|██████▎   | 306/485 [01:37<00:58,  3.05it/s]\u001b[A\n",
      " 63%|██████▎   | 307/485 [01:38<00:57,  3.12it/s]\u001b[A\n",
      " 64%|██████▎   | 308/485 [01:38<00:55,  3.17it/s]\u001b[A\n",
      " 64%|██████▎   | 309/485 [01:38<00:57,  3.05it/s]\u001b[A\n",
      " 64%|██████▍   | 310/485 [01:39<00:55,  3.16it/s]\u001b[A\n",
      " 64%|██████▍   | 311/485 [01:39<00:56,  3.09it/s]\u001b[A\n",
      " 64%|██████▍   | 312/485 [01:39<00:54,  3.16it/s]\u001b[A\n",
      " 65%|██████▍   | 313/485 [01:40<00:56,  3.06it/s]\u001b[A\n",
      " 65%|██████▍   | 314/485 [01:40<00:54,  3.15it/s]\u001b[A\n",
      " 65%|██████▍   | 315/485 [01:40<00:55,  3.06it/s]\u001b[A\n",
      " 65%|██████▌   | 316/485 [01:41<00:54,  3.12it/s]\u001b[A\n",
      " 65%|██████▌   | 317/485 [01:41<00:52,  3.18it/s]\u001b[A\n",
      " 66%|██████▌   | 318/485 [01:41<00:54,  3.05it/s]\u001b[A\n",
      " 66%|██████▌   | 319/485 [01:42<00:53,  3.11it/s]\u001b[A\n",
      " 66%|██████▌   | 320/485 [01:42<00:52,  3.15it/s]\u001b[A\n",
      " 66%|██████▌   | 321/485 [01:42<00:53,  3.07it/s]\u001b[A\n",
      " 66%|██████▋   | 322/485 [01:42<00:51,  3.17it/s]\u001b[A\n",
      " 67%|██████▋   | 323/485 [01:43<00:52,  3.09it/s]\u001b[A\n",
      " 67%|██████▋   | 324/485 [01:43<00:50,  3.17it/s]\u001b[A\n",
      " 67%|██████▋   | 325/485 [01:43<00:51,  3.10it/s]\u001b[A\n",
      " 67%|██████▋   | 326/485 [01:44<00:49,  3.19it/s]\u001b[A\n",
      " 67%|██████▋   | 327/485 [01:44<00:51,  3.08it/s]\u001b[A\n",
      " 68%|██████▊   | 328/485 [01:44<00:49,  3.15it/s]\u001b[A\n",
      " 68%|██████▊   | 329/485 [01:45<00:48,  3.20it/s]\u001b[A\n",
      " 68%|██████▊   | 330/485 [01:45<00:50,  3.05it/s]\u001b[A\n",
      " 68%|██████▊   | 331/485 [01:45<00:49,  3.14it/s]\u001b[A\n",
      " 68%|██████▊   | 332/485 [01:46<00:49,  3.08it/s]\u001b[A\n",
      " 69%|██████▊   | 333/485 [01:46<00:48,  3.16it/s]"
     ]
    },
    {
     "name": "stdout",
     "output_type": "stream",
     "text": [
      "problema dreapta\n"
     ]
    },
    {
     "name": "stderr",
     "output_type": "stream",
     "text": [
      "\u001b[A\n",
      " 69%|██████▉   | 334/485 [01:46<00:48,  3.09it/s]\u001b[A\n",
      " 69%|██████▉   | 335/485 [01:47<00:47,  3.17it/s]\u001b[A\n",
      " 69%|██████▉   | 336/485 [01:47<00:48,  3.07it/s]\u001b[A\n",
      " 69%|██████▉   | 337/485 [01:47<00:46,  3.15it/s]\u001b[A\n",
      " 70%|██████▉   | 338/485 [01:48<00:47,  3.09it/s]\u001b[A\n",
      " 70%|██████▉   | 339/485 [01:48<00:45,  3.18it/s]\u001b[A\n",
      " 70%|███████   | 340/485 [01:48<00:46,  3.09it/s]"
     ]
    },
    {
     "name": "stdout",
     "output_type": "stream",
     "text": [
      "problema dreapta\n"
     ]
    },
    {
     "name": "stderr",
     "output_type": "stream",
     "text": [
      "\u001b[A\n",
      " 70%|███████   | 341/485 [01:49<00:45,  3.16it/s]"
     ]
    },
    {
     "name": "stdout",
     "output_type": "stream",
     "text": [
      "problema dreapta\n"
     ]
    },
    {
     "name": "stderr",
     "output_type": "stream",
     "text": [
      "\u001b[A\n",
      " 71%|███████   | 342/485 [01:49<00:47,  3.04it/s]"
     ]
    },
    {
     "name": "stdout",
     "output_type": "stream",
     "text": [
      "problema dreapta\n"
     ]
    },
    {
     "name": "stderr",
     "output_type": "stream",
     "text": [
      "\u001b[A\n",
      " 71%|███████   | 343/485 [01:49<00:45,  3.12it/s]"
     ]
    },
    {
     "name": "stdout",
     "output_type": "stream",
     "text": [
      "problema dreapta\n"
     ]
    },
    {
     "name": "stderr",
     "output_type": "stream",
     "text": [
      "\u001b[A\n",
      " 71%|███████   | 344/485 [01:50<00:46,  3.06it/s]\u001b[A\n",
      " 71%|███████   | 345/485 [01:50<00:44,  3.15it/s]\u001b[A\n",
      " 71%|███████▏  | 346/485 [01:50<00:45,  3.07it/s]\u001b[A\n",
      " 72%|███████▏  | 347/485 [01:50<00:43,  3.16it/s]\u001b[A\n",
      " 72%|███████▏  | 348/485 [01:51<00:45,  3.03it/s]\u001b[A\n",
      " 72%|███████▏  | 349/485 [01:51<00:43,  3.10it/s]\u001b[A\n",
      " 72%|███████▏  | 350/485 [01:51<00:43,  3.13it/s]\u001b[A\n",
      " 72%|███████▏  | 351/485 [01:52<00:44,  3.02it/s]\u001b[A\n",
      " 73%|███████▎  | 352/485 [01:52<00:43,  3.09it/s]\u001b[A\n",
      " 73%|███████▎  | 353/485 [01:52<00:43,  3.02it/s]\u001b[A\n",
      " 73%|███████▎  | 354/485 [01:53<00:41,  3.12it/s]\u001b[A\n",
      " 73%|███████▎  | 355/485 [01:53<00:42,  3.04it/s]\u001b[A\n",
      " 73%|███████▎  | 356/485 [01:53<00:41,  3.12it/s]\u001b[A\n",
      " 74%|███████▎  | 357/485 [01:54<00:42,  3.04it/s]\u001b[A\n",
      " 74%|███████▍  | 358/485 [01:54<00:40,  3.13it/s]\u001b[A\n",
      " 74%|███████▍  | 359/485 [01:54<00:41,  3.05it/s]\u001b[A\n",
      " 74%|███████▍  | 360/485 [01:55<00:39,  3.13it/s]\u001b[A\n",
      " 74%|███████▍  | 361/485 [01:55<00:40,  3.06it/s]\u001b[A\n",
      " 75%|███████▍  | 362/485 [01:55<00:38,  3.16it/s]\u001b[A\n",
      " 75%|███████▍  | 363/485 [01:56<00:39,  3.10it/s]\u001b[A\n",
      " 75%|███████▌  | 364/485 [01:56<00:37,  3.19it/s]\u001b[A\n",
      " 75%|███████▌  | 365/485 [01:56<00:38,  3.12it/s]\u001b[A\n",
      " 75%|███████▌  | 366/485 [01:57<00:37,  3.21it/s]\u001b[A\n",
      " 76%|███████▌  | 367/485 [01:57<00:38,  3.10it/s]\u001b[A\n",
      " 76%|███████▌  | 368/485 [01:57<00:36,  3.17it/s]\u001b[A\n",
      " 76%|███████▌  | 369/485 [01:58<00:37,  3.11it/s]\u001b[A\n",
      " 76%|███████▋  | 370/485 [01:58<00:36,  3.16it/s]\u001b[A\n",
      " 76%|███████▋  | 371/485 [01:58<00:37,  3.08it/s]\u001b[A\n",
      " 77%|███████▋  | 372/485 [01:59<00:35,  3.16it/s]"
     ]
    },
    {
     "name": "stdout",
     "output_type": "stream",
     "text": [
      "problema stanga\n"
     ]
    },
    {
     "name": "stderr",
     "output_type": "stream",
     "text": [
      "\u001b[A\n",
      " 77%|███████▋  | 373/485 [01:59<00:36,  3.05it/s]"
     ]
    },
    {
     "name": "stdout",
     "output_type": "stream",
     "text": [
      "problema stanga\n"
     ]
    },
    {
     "name": "stderr",
     "output_type": "stream",
     "text": [
      "\u001b[A\n",
      " 77%|███████▋  | 374/485 [01:59<00:35,  3.13it/s]"
     ]
    },
    {
     "name": "stdout",
     "output_type": "stream",
     "text": [
      "problema stanga\n"
     ]
    },
    {
     "name": "stderr",
     "output_type": "stream",
     "text": [
      "\u001b[A\n",
      " 77%|███████▋  | 375/485 [02:00<00:36,  3.04it/s]"
     ]
    },
    {
     "name": "stdout",
     "output_type": "stream",
     "text": [
      "problema stanga\n"
     ]
    },
    {
     "name": "stderr",
     "output_type": "stream",
     "text": [
      "\u001b[A\n",
      " 78%|███████▊  | 376/485 [02:00<00:35,  3.11it/s]"
     ]
    },
    {
     "name": "stdout",
     "output_type": "stream",
     "text": [
      "problema stanga\n"
     ]
    },
    {
     "name": "stderr",
     "output_type": "stream",
     "text": [
      "\u001b[A\n",
      " 78%|███████▊  | 377/485 [02:00<00:35,  3.04it/s]"
     ]
    },
    {
     "name": "stdout",
     "output_type": "stream",
     "text": [
      "problema stanga\n"
     ]
    },
    {
     "name": "stderr",
     "output_type": "stream",
     "text": [
      "\u001b[A\n",
      " 78%|███████▊  | 378/485 [02:00<00:34,  3.14it/s]"
     ]
    },
    {
     "name": "stdout",
     "output_type": "stream",
     "text": [
      "problema stanga\n"
     ]
    },
    {
     "name": "stderr",
     "output_type": "stream",
     "text": [
      "\u001b[A\n",
      " 78%|███████▊  | 379/485 [02:01<00:34,  3.09it/s]"
     ]
    },
    {
     "name": "stdout",
     "output_type": "stream",
     "text": [
      "problema stanga\n"
     ]
    },
    {
     "name": "stderr",
     "output_type": "stream",
     "text": [
      "\u001b[A\n",
      " 78%|███████▊  | 380/485 [02:01<00:34,  3.04it/s]"
     ]
    },
    {
     "name": "stdout",
     "output_type": "stream",
     "text": [
      "problema stanga\n"
     ]
    },
    {
     "name": "stderr",
     "output_type": "stream",
     "text": [
      "\u001b[A\n",
      " 79%|███████▊  | 381/485 [02:01<00:33,  3.11it/s]"
     ]
    },
    {
     "name": "stdout",
     "output_type": "stream",
     "text": [
      "problema stanga\n"
     ]
    },
    {
     "name": "stderr",
     "output_type": "stream",
     "text": [
      "\u001b[A\n",
      " 79%|███████▉  | 382/485 [02:02<00:32,  3.15it/s]"
     ]
    },
    {
     "name": "stdout",
     "output_type": "stream",
     "text": [
      "problema stanga\n"
     ]
    },
    {
     "name": "stderr",
     "output_type": "stream",
     "text": [
      "\u001b[A\n",
      " 79%|███████▉  | 383/485 [02:02<00:33,  3.03it/s]"
     ]
    },
    {
     "name": "stdout",
     "output_type": "stream",
     "text": [
      "problema stanga\n"
     ]
    },
    {
     "name": "stderr",
     "output_type": "stream",
     "text": [
      "\u001b[A\n",
      " 79%|███████▉  | 384/485 [02:02<00:32,  3.09it/s]"
     ]
    },
    {
     "name": "stdout",
     "output_type": "stream",
     "text": [
      "problema stanga\n"
     ]
    },
    {
     "name": "stderr",
     "output_type": "stream",
     "text": [
      "\u001b[A\n",
      " 79%|███████▉  | 385/485 [02:03<00:31,  3.15it/s]"
     ]
    },
    {
     "name": "stdout",
     "output_type": "stream",
     "text": [
      "problema stanga\n"
     ]
    },
    {
     "name": "stderr",
     "output_type": "stream",
     "text": [
      "\u001b[A\n",
      " 80%|███████▉  | 386/485 [02:03<00:32,  3.02it/s]"
     ]
    },
    {
     "name": "stdout",
     "output_type": "stream",
     "text": [
      "problema stanga\n"
     ]
    },
    {
     "name": "stderr",
     "output_type": "stream",
     "text": [
      "\u001b[A\n",
      " 80%|███████▉  | 387/485 [02:03<00:31,  3.07it/s]"
     ]
    },
    {
     "name": "stdout",
     "output_type": "stream",
     "text": [
      "problema stanga\n"
     ]
    },
    {
     "name": "stderr",
     "output_type": "stream",
     "text": [
      "\u001b[A\n",
      " 80%|████████  | 388/485 [02:04<00:30,  3.13it/s]"
     ]
    },
    {
     "name": "stdout",
     "output_type": "stream",
     "text": [
      "problema stanga\n"
     ]
    },
    {
     "name": "stderr",
     "output_type": "stream",
     "text": [
      "\u001b[A\n",
      " 80%|████████  | 389/485 [02:04<00:31,  3.04it/s]"
     ]
    },
    {
     "name": "stdout",
     "output_type": "stream",
     "text": [
      "problema stanga\n"
     ]
    },
    {
     "name": "stderr",
     "output_type": "stream",
     "text": [
      "\u001b[A\n",
      " 80%|████████  | 390/485 [02:04<00:30,  3.11it/s]"
     ]
    },
    {
     "name": "stdout",
     "output_type": "stream",
     "text": [
      "problema stanga\n"
     ]
    },
    {
     "name": "stderr",
     "output_type": "stream",
     "text": [
      "\u001b[A\n",
      " 81%|████████  | 391/485 [02:05<00:30,  3.06it/s]"
     ]
    },
    {
     "name": "stdout",
     "output_type": "stream",
     "text": [
      "problema stanga\n"
     ]
    },
    {
     "name": "stderr",
     "output_type": "stream",
     "text": [
      "\u001b[A\n",
      " 81%|████████  | 392/485 [02:05<00:29,  3.12it/s]"
     ]
    },
    {
     "name": "stdout",
     "output_type": "stream",
     "text": [
      "problema stanga\n"
     ]
    },
    {
     "name": "stderr",
     "output_type": "stream",
     "text": [
      "\u001b[A\n",
      " 81%|████████  | 393/485 [02:05<00:30,  3.04it/s]"
     ]
    },
    {
     "name": "stdout",
     "output_type": "stream",
     "text": [
      "problema stanga\n"
     ]
    },
    {
     "name": "stderr",
     "output_type": "stream",
     "text": [
      "\u001b[A\n",
      " 81%|████████  | 394/485 [02:06<00:29,  3.08it/s]"
     ]
    },
    {
     "name": "stdout",
     "output_type": "stream",
     "text": [
      "problema stanga\n"
     ]
    },
    {
     "name": "stderr",
     "output_type": "stream",
     "text": [
      "\u001b[A\n",
      " 81%|████████▏ | 395/485 [02:06<00:28,  3.13it/s]"
     ]
    },
    {
     "name": "stdout",
     "output_type": "stream",
     "text": [
      "problema stanga\n"
     ]
    },
    {
     "name": "stderr",
     "output_type": "stream",
     "text": [
      "\u001b[A\n",
      " 82%|████████▏ | 396/485 [02:06<00:29,  3.01it/s]"
     ]
    },
    {
     "name": "stdout",
     "output_type": "stream",
     "text": [
      "problema stanga\n"
     ]
    },
    {
     "name": "stderr",
     "output_type": "stream",
     "text": [
      "\u001b[A\n",
      " 82%|████████▏ | 397/485 [02:07<00:28,  3.07it/s]"
     ]
    },
    {
     "name": "stdout",
     "output_type": "stream",
     "text": [
      "problema stanga\n"
     ]
    },
    {
     "name": "stderr",
     "output_type": "stream",
     "text": [
      "\u001b[A\n",
      " 82%|████████▏ | 398/485 [02:07<00:27,  3.14it/s]"
     ]
    },
    {
     "name": "stdout",
     "output_type": "stream",
     "text": [
      "problema stanga\n"
     ]
    },
    {
     "name": "stderr",
     "output_type": "stream",
     "text": [
      "\u001b[A\n",
      " 82%|████████▏ | 399/485 [02:07<00:26,  3.22it/s]"
     ]
    },
    {
     "name": "stdout",
     "output_type": "stream",
     "text": [
      "problema stanga\n"
     ]
    },
    {
     "name": "stderr",
     "output_type": "stream",
     "text": [
      "\u001b[A\n",
      " 82%|████████▏ | 400/485 [02:08<00:27,  3.08it/s]"
     ]
    },
    {
     "name": "stdout",
     "output_type": "stream",
     "text": [
      "problema stanga\n"
     ]
    },
    {
     "name": "stderr",
     "output_type": "stream",
     "text": [
      "\u001b[A\n",
      " 83%|████████▎ | 401/485 [02:08<00:26,  3.12it/s]"
     ]
    },
    {
     "name": "stdout",
     "output_type": "stream",
     "text": [
      "problema stanga\n"
     ]
    },
    {
     "name": "stderr",
     "output_type": "stream",
     "text": [
      "\u001b[A\n",
      " 83%|████████▎ | 402/485 [02:08<00:26,  3.17it/s]"
     ]
    },
    {
     "name": "stdout",
     "output_type": "stream",
     "text": [
      "problema stanga\n"
     ]
    },
    {
     "name": "stderr",
     "output_type": "stream",
     "text": [
      "\u001b[A\n",
      " 83%|████████▎ | 403/485 [02:09<00:26,  3.05it/s]"
     ]
    },
    {
     "name": "stdout",
     "output_type": "stream",
     "text": [
      "problema stanga\n"
     ]
    },
    {
     "name": "stderr",
     "output_type": "stream",
     "text": [
      "\u001b[A\n",
      " 83%|████████▎ | 404/485 [02:09<00:25,  3.13it/s]"
     ]
    },
    {
     "name": "stdout",
     "output_type": "stream",
     "text": [
      "problema stanga\n"
     ]
    },
    {
     "name": "stderr",
     "output_type": "stream",
     "text": [
      "\u001b[A\n",
      " 84%|████████▎ | 405/485 [02:09<00:26,  3.04it/s]\u001b[A\n",
      " 84%|████████▎ | 406/485 [02:10<00:25,  3.10it/s]\u001b[A\n",
      " 84%|████████▍ | 407/485 [02:10<00:24,  3.17it/s]\u001b[A\n",
      " 84%|████████▍ | 408/485 [02:10<00:25,  3.07it/s]\u001b[A\n",
      " 84%|████████▍ | 409/485 [02:11<00:24,  3.16it/s]\u001b[A\n",
      " 85%|████████▍ | 410/485 [02:11<00:24,  3.08it/s]\u001b[A\n",
      " 85%|████████▍ | 411/485 [02:11<00:23,  3.14it/s]\u001b[A\n",
      " 85%|████████▍ | 412/485 [02:12<00:24,  3.03it/s]\u001b[A\n",
      " 85%|████████▌ | 413/485 [02:12<00:23,  3.08it/s]\u001b[A\n",
      " 85%|████████▌ | 414/485 [02:12<00:22,  3.14it/s]\u001b[A\n",
      " 86%|████████▌ | 415/485 [02:12<00:22,  3.04it/s]\u001b[A\n",
      " 86%|████████▌ | 416/485 [02:13<00:22,  3.13it/s]\u001b[A\n",
      " 86%|████████▌ | 417/485 [02:13<00:22,  3.05it/s]\u001b[A\n",
      " 86%|████████▌ | 418/485 [02:13<00:21,  3.12it/s]\u001b[A\n",
      " 86%|████████▋ | 419/485 [02:14<00:20,  3.18it/s]\u001b[A\n",
      " 87%|████████▋ | 420/485 [02:14<00:21,  3.04it/s]\u001b[A\n",
      " 87%|████████▋ | 421/485 [02:14<00:20,  3.12it/s]\u001b[A\n",
      " 87%|████████▋ | 422/485 [02:15<00:19,  3.18it/s]\u001b[A\n",
      " 87%|████████▋ | 423/485 [02:15<00:20,  3.07it/s]\u001b[A\n",
      " 87%|████████▋ | 424/485 [02:15<00:19,  3.16it/s]\u001b[A\n",
      " 88%|████████▊ | 425/485 [02:16<00:19,  3.09it/s]\u001b[A\n",
      " 88%|████████▊ | 426/485 [02:16<00:18,  3.15it/s]\u001b[A\n",
      " 88%|████████▊ | 427/485 [02:16<00:18,  3.20it/s]\u001b[A\n",
      " 88%|████████▊ | 428/485 [02:17<00:18,  3.08it/s]\u001b[A\n",
      " 88%|████████▊ | 429/485 [02:17<00:17,  3.14it/s]\u001b[A\n",
      " 89%|████████▊ | 430/485 [02:17<00:17,  3.19it/s]\u001b[A\n",
      " 89%|████████▉ | 431/485 [02:18<00:17,  3.10it/s]\u001b[A\n",
      " 89%|████████▉ | 432/485 [02:18<00:16,  3.18it/s]\u001b[A\n",
      " 89%|████████▉ | 433/485 [02:18<00:16,  3.08it/s]\u001b[A\n",
      " 89%|████████▉ | 434/485 [02:19<00:16,  3.16it/s]\u001b[A\n",
      " 90%|████████▉ | 435/485 [02:19<00:16,  3.12it/s]\u001b[A\n",
      " 90%|████████▉ | 436/485 [02:19<00:15,  3.20it/s]\u001b[A\n",
      " 90%|█████████ | 437/485 [02:20<00:15,  3.07it/s]\u001b[A\n",
      " 90%|█████████ | 438/485 [02:20<00:14,  3.14it/s]\u001b[A\n",
      " 91%|█████████ | 439/485 [02:20<00:14,  3.18it/s]\u001b[A\n",
      " 91%|█████████ | 440/485 [02:20<00:14,  3.07it/s]\u001b[A\n",
      " 91%|█████████ | 441/485 [02:21<00:13,  3.16it/s]\u001b[A\n",
      " 91%|█████████ | 442/485 [02:21<00:13,  3.08it/s]\u001b[A\n",
      " 91%|█████████▏| 443/485 [02:21<00:13,  3.16it/s]\u001b[A\n",
      " 92%|█████████▏| 444/485 [02:22<00:13,  3.06it/s]\u001b[A\n",
      " 92%|█████████▏| 445/485 [02:22<00:12,  3.11it/s]\u001b[A\n",
      " 92%|█████████▏| 446/485 [02:22<00:12,  3.03it/s]\u001b[A\n",
      " 92%|█████████▏| 447/485 [02:23<00:12,  3.12it/s]\u001b[A\n",
      " 92%|█████████▏| 448/485 [02:23<00:12,  3.02it/s]\u001b[A\n",
      " 93%|█████████▎| 449/485 [02:23<00:11,  3.06it/s]\u001b[A\n",
      " 93%|█████████▎| 450/485 [02:24<00:11,  3.10it/s]\u001b[A\n",
      " 93%|█████████▎| 451/485 [02:24<00:11,  2.99it/s]\u001b[A\n",
      " 93%|█████████▎| 452/485 [02:24<00:10,  3.04it/s]\u001b[A\n",
      " 93%|█████████▎| 453/485 [02:25<00:10,  3.11it/s]\u001b[A\n",
      " 94%|█████████▎| 454/485 [02:25<00:10,  3.00it/s]\u001b[A\n",
      " 94%|█████████▍| 455/485 [02:25<00:09,  3.07it/s]"
     ]
    },
    {
     "name": "stdout",
     "output_type": "stream",
     "text": [
      "problema dreapta\n"
     ]
    },
    {
     "name": "stderr",
     "output_type": "stream",
     "text": [
      "\u001b[A\n",
      " 94%|█████████▍| 456/485 [02:26<00:09,  3.12it/s]\u001b[A\n",
      " 94%|█████████▍| 457/485 [02:26<00:09,  3.00it/s]\u001b[A\n",
      " 94%|█████████▍| 458/485 [02:26<00:08,  3.07it/s]\u001b[A\n",
      " 95%|█████████▍| 459/485 [02:27<00:08,  3.11it/s]\u001b[A\n",
      " 95%|█████████▍| 460/485 [02:27<00:08,  3.00it/s]\u001b[A\n",
      " 95%|█████████▌| 461/485 [02:27<00:07,  3.07it/s]\u001b[A\n",
      " 95%|█████████▌| 462/485 [02:28<00:07,  3.13it/s]\u001b[A\n",
      " 95%|█████████▌| 463/485 [02:28<00:07,  2.96it/s]\u001b[A\n",
      " 96%|█████████▌| 464/485 [02:28<00:06,  3.04it/s]\u001b[A\n",
      " 96%|█████████▌| 465/485 [02:29<00:06,  2.98it/s]\u001b[A\n",
      " 96%|█████████▌| 466/485 [02:29<00:06,  3.06it/s]\u001b[A\n",
      " 96%|█████████▋| 467/485 [02:29<00:05,  3.11it/s]\u001b[A\n",
      " 96%|█████████▋| 468/485 [02:30<00:05,  2.99it/s]\u001b[A\n",
      " 97%|█████████▋| 469/485 [02:30<00:05,  3.04it/s]\u001b[A\n",
      " 97%|█████████▋| 470/485 [02:30<00:04,  3.10it/s]\u001b[A\n",
      " 97%|█████████▋| 471/485 [02:31<00:04,  3.01it/s]\u001b[A\n",
      " 97%|█████████▋| 472/485 [02:31<00:04,  3.11it/s]\u001b[A\n",
      " 98%|█████████▊| 473/485 [02:31<00:03,  3.06it/s]\u001b[A\n",
      " 98%|█████████▊| 474/485 [02:32<00:03,  3.15it/s]\u001b[A\n",
      " 98%|█████████▊| 475/485 [02:32<00:03,  3.03it/s]\u001b[A\n",
      " 98%|█████████▊| 476/485 [02:32<00:02,  3.08it/s]\u001b[A\n",
      " 98%|█████████▊| 477/485 [02:33<00:02,  3.13it/s]\u001b[A\n",
      " 99%|█████████▊| 478/485 [02:33<00:02,  3.03it/s]\u001b[A\n",
      " 99%|█████████▉| 479/485 [02:33<00:01,  3.13it/s]\u001b[A\n",
      " 99%|█████████▉| 480/485 [02:34<00:01,  3.03it/s]\u001b[A\n",
      " 99%|█████████▉| 481/485 [02:34<00:01,  3.08it/s]\u001b[A\n",
      " 99%|█████████▉| 482/485 [02:34<00:00,  3.09it/s]\u001b[A\n",
      "100%|█████████▉| 483/485 [02:35<00:00,  3.02it/s]\u001b[A\n",
      "100%|█████████▉| 484/485 [02:35<00:00,  3.13it/s]\u001b[A\n",
      "100%|██████████| 485/485 [02:35<00:00,  3.06it/s]\u001b[A\n",
      "\u001b[A"
     ]
    },
    {
     "name": "stdout",
     "output_type": "stream",
     "text": [
      "[MoviePy] Done.\n",
      "[MoviePy] >>>> Video ready: challenge_video_output.mp4 \n",
      "\n",
      "CPU times: user 1min 19s, sys: 30.4 s, total: 1min 49s\n",
      "Wall time: 2min 38s\n"
     ]
    }
   ],
   "source": [
    "white_output = 'challenge_video_output.mp4'\n",
    "## To speed up the testing process you may want to try your pipeline on a shorter subclip of the video\n",
    "## To do so add .subclip(start_second,end_second) to the end of the line below\n",
    "## Where start_second and end_second are integer values representing the start and end of the subclip\n",
    "## You may also uncomment the following line for a subclip of the first 5 seconds\n",
    "##clip1 = VideoFileClip(\"test_videos/solidWhiteRight.mp4\").subclip(0,5)\n",
    "#clip1 = VideoFileClip(\"project_video.mp4\")\n",
    "clip1 = VideoFileClip(\"challenge_video.mp4\")\n",
    "#clip1 = VideoFileClip(\"project_video.mp4\")\n",
    "white_clip = clip1.fl_image(process_image) #NOTE: this function expects color images!!\n",
    "%time white_clip.write_videofile(white_output, audio=False)"
   ]
  },
  {
   "cell_type": "code",
   "execution_count": 91,
   "metadata": {},
   "outputs": [
    {
     "data": {
      "text/html": [
       "\n",
       "<video width=\"960\" height=\"540\" controls>\n",
       "  <source src=\"challenge_video_output.mp4\">\n",
       "</video>\n"
      ],
      "text/plain": [
       "<IPython.core.display.HTML object>"
      ]
     },
     "execution_count": 91,
     "metadata": {},
     "output_type": "execute_result"
    }
   ],
   "source": [
    "HTML(\"\"\"\n",
    "<video width=\"960\" height=\"540\" controls>\n",
    "  <source src=\"{0}\">\n",
    "</video>\n",
    "\"\"\".format(white_output))"
   ]
  },
  {
   "cell_type": "code",
   "execution_count": null,
   "metadata": {},
   "outputs": [],
   "source": []
  }
 ],
 "metadata": {
  "kernelspec": {
   "display_name": "Python 3",
   "language": "python",
   "name": "python3"
  },
  "language_info": {
   "codemirror_mode": {
    "name": "ipython",
    "version": 3
   },
   "file_extension": ".py",
   "mimetype": "text/x-python",
   "name": "python",
   "nbconvert_exporter": "python",
   "pygments_lexer": "ipython3",
   "version": "3.6.3"
  }
 },
 "nbformat": 4,
 "nbformat_minor": 2
}
